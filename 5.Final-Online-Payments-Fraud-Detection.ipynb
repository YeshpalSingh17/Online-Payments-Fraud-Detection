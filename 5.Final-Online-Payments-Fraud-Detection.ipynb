{
 "cells": [
  {
   "cell_type": "code",
   "execution_count": 1,
   "id": "8354d92b",
   "metadata": {},
   "outputs": [],
   "source": [
    "#importing librarys\n",
    "import time\n",
    "import pandas as pd\n",
    "import numpy as np\n",
    "import seaborn as sns\n",
    "import matplotlib.pyplot as plt\n",
    "import seaborn as sns\n",
    "from sklearn.model_selection import train_test_split\n",
    "from sklearn.preprocessing import StandardScaler\n",
    "from sklearn.ensemble import RandomForestClassifier\n",
    "from sklearn.metrics import accuracy_score, classification_report, roc_auc_score, confusion_matrix, roc_curve, auc\n",
    "\n",
    "\n",
    "# Set pandas options to display float values in full\n",
    "pd.set_option('display.float_format', '{:.2f}'.format)\n"
   ]
  },
  {
   "cell_type": "markdown",
   "id": "08211714",
   "metadata": {},
   "source": [
    "### Data Collection "
   ]
  },
  {
   "cell_type": "code",
   "execution_count": 2,
   "id": "29d12fc3",
   "metadata": {},
   "outputs": [
    {
     "data": {
      "text/html": [
       "<div>\n",
       "<style scoped>\n",
       "    .dataframe tbody tr th:only-of-type {\n",
       "        vertical-align: middle;\n",
       "    }\n",
       "\n",
       "    .dataframe tbody tr th {\n",
       "        vertical-align: top;\n",
       "    }\n",
       "\n",
       "    .dataframe thead th {\n",
       "        text-align: right;\n",
       "    }\n",
       "</style>\n",
       "<table border=\"1\" class=\"dataframe\">\n",
       "  <thead>\n",
       "    <tr style=\"text-align: right;\">\n",
       "      <th></th>\n",
       "      <th>step</th>\n",
       "      <th>type</th>\n",
       "      <th>amount</th>\n",
       "      <th>nameOrig</th>\n",
       "      <th>oldbalanceOrg</th>\n",
       "      <th>newbalanceOrig</th>\n",
       "      <th>nameDest</th>\n",
       "      <th>oldbalanceDest</th>\n",
       "      <th>newbalanceDest</th>\n",
       "      <th>isFraud</th>\n",
       "      <th>isFlaggedFraud</th>\n",
       "    </tr>\n",
       "  </thead>\n",
       "  <tbody>\n",
       "    <tr>\n",
       "      <th>0</th>\n",
       "      <td>1</td>\n",
       "      <td>PAYMENT</td>\n",
       "      <td>9839.64</td>\n",
       "      <td>C1231006815</td>\n",
       "      <td>170136.00</td>\n",
       "      <td>160296.36</td>\n",
       "      <td>M1979787155</td>\n",
       "      <td>0.00</td>\n",
       "      <td>0.00</td>\n",
       "      <td>0</td>\n",
       "      <td>0</td>\n",
       "    </tr>\n",
       "    <tr>\n",
       "      <th>1</th>\n",
       "      <td>1</td>\n",
       "      <td>PAYMENT</td>\n",
       "      <td>1864.28</td>\n",
       "      <td>C1666544295</td>\n",
       "      <td>21249.00</td>\n",
       "      <td>19384.72</td>\n",
       "      <td>M2044282225</td>\n",
       "      <td>0.00</td>\n",
       "      <td>0.00</td>\n",
       "      <td>0</td>\n",
       "      <td>0</td>\n",
       "    </tr>\n",
       "    <tr>\n",
       "      <th>2</th>\n",
       "      <td>1</td>\n",
       "      <td>TRANSFER</td>\n",
       "      <td>181.00</td>\n",
       "      <td>C1305486145</td>\n",
       "      <td>181.00</td>\n",
       "      <td>0.00</td>\n",
       "      <td>C553264065</td>\n",
       "      <td>0.00</td>\n",
       "      <td>0.00</td>\n",
       "      <td>1</td>\n",
       "      <td>0</td>\n",
       "    </tr>\n",
       "    <tr>\n",
       "      <th>3</th>\n",
       "      <td>1</td>\n",
       "      <td>CASH_OUT</td>\n",
       "      <td>181.00</td>\n",
       "      <td>C840083671</td>\n",
       "      <td>181.00</td>\n",
       "      <td>0.00</td>\n",
       "      <td>C38997010</td>\n",
       "      <td>21182.00</td>\n",
       "      <td>0.00</td>\n",
       "      <td>1</td>\n",
       "      <td>0</td>\n",
       "    </tr>\n",
       "    <tr>\n",
       "      <th>4</th>\n",
       "      <td>1</td>\n",
       "      <td>PAYMENT</td>\n",
       "      <td>11668.14</td>\n",
       "      <td>C2048537720</td>\n",
       "      <td>41554.00</td>\n",
       "      <td>29885.86</td>\n",
       "      <td>M1230701703</td>\n",
       "      <td>0.00</td>\n",
       "      <td>0.00</td>\n",
       "      <td>0</td>\n",
       "      <td>0</td>\n",
       "    </tr>\n",
       "  </tbody>\n",
       "</table>\n",
       "</div>"
      ],
      "text/plain": [
       "   step      type   amount     nameOrig  oldbalanceOrg  newbalanceOrig  \\\n",
       "0     1   PAYMENT  9839.64  C1231006815      170136.00       160296.36   \n",
       "1     1   PAYMENT  1864.28  C1666544295       21249.00        19384.72   \n",
       "2     1  TRANSFER   181.00  C1305486145         181.00            0.00   \n",
       "3     1  CASH_OUT   181.00   C840083671         181.00            0.00   \n",
       "4     1   PAYMENT 11668.14  C2048537720       41554.00        29885.86   \n",
       "\n",
       "      nameDest  oldbalanceDest  newbalanceDest  isFraud  isFlaggedFraud  \n",
       "0  M1979787155            0.00            0.00        0               0  \n",
       "1  M2044282225            0.00            0.00        0               0  \n",
       "2   C553264065            0.00            0.00        1               0  \n",
       "3    C38997010        21182.00            0.00        1               0  \n",
       "4  M1230701703            0.00            0.00        0               0  "
      ]
     },
     "execution_count": 2,
     "metadata": {},
     "output_type": "execute_result"
    }
   ],
   "source": [
    "# Load the data\n",
    "df=pd.read_csv(\"C:/Users/Ashyy/Desktop/NIT-Data Analytics/onlinefraud.csv\")\n",
    "df.head()"
   ]
  },
  {
   "cell_type": "code",
   "execution_count": 3,
   "id": "b0e00737",
   "metadata": {},
   "outputs": [
    {
     "data": {
      "text/html": [
       "<div>\n",
       "<style scoped>\n",
       "    .dataframe tbody tr th:only-of-type {\n",
       "        vertical-align: middle;\n",
       "    }\n",
       "\n",
       "    .dataframe tbody tr th {\n",
       "        vertical-align: top;\n",
       "    }\n",
       "\n",
       "    .dataframe thead th {\n",
       "        text-align: right;\n",
       "    }\n",
       "</style>\n",
       "<table border=\"1\" class=\"dataframe\">\n",
       "  <thead>\n",
       "    <tr style=\"text-align: right;\">\n",
       "      <th></th>\n",
       "      <th>step</th>\n",
       "      <th>type</th>\n",
       "      <th>amount</th>\n",
       "      <th>nameOrig</th>\n",
       "      <th>oldbalanceOrg</th>\n",
       "      <th>newbalanceOrig</th>\n",
       "      <th>nameDest</th>\n",
       "      <th>oldbalanceDest</th>\n",
       "      <th>newbalanceDest</th>\n",
       "      <th>isFraud</th>\n",
       "      <th>isFlaggedFraud</th>\n",
       "    </tr>\n",
       "  </thead>\n",
       "  <tbody>\n",
       "    <tr>\n",
       "      <th>5911433</th>\n",
       "      <td>404</td>\n",
       "      <td>CASH_OUT</td>\n",
       "      <td>304411.73</td>\n",
       "      <td>C452750412</td>\n",
       "      <td>5589.00</td>\n",
       "      <td>0.00</td>\n",
       "      <td>C359534268</td>\n",
       "      <td>237363.08</td>\n",
       "      <td>541774.81</td>\n",
       "      <td>0</td>\n",
       "      <td>0</td>\n",
       "    </tr>\n",
       "    <tr>\n",
       "      <th>3461285</th>\n",
       "      <td>257</td>\n",
       "      <td>CASH_OUT</td>\n",
       "      <td>23854.16</td>\n",
       "      <td>C59845919</td>\n",
       "      <td>0.00</td>\n",
       "      <td>0.00</td>\n",
       "      <td>C1699100984</td>\n",
       "      <td>118965.14</td>\n",
       "      <td>142819.29</td>\n",
       "      <td>0</td>\n",
       "      <td>0</td>\n",
       "    </tr>\n",
       "    <tr>\n",
       "      <th>1026786</th>\n",
       "      <td>48</td>\n",
       "      <td>CASH_IN</td>\n",
       "      <td>76748.80</td>\n",
       "      <td>C1737418168</td>\n",
       "      <td>8629241.49</td>\n",
       "      <td>8705990.29</td>\n",
       "      <td>C1492865671</td>\n",
       "      <td>1171791.20</td>\n",
       "      <td>1095042.40</td>\n",
       "      <td>0</td>\n",
       "      <td>0</td>\n",
       "    </tr>\n",
       "    <tr>\n",
       "      <th>4834989</th>\n",
       "      <td>347</td>\n",
       "      <td>CASH_IN</td>\n",
       "      <td>256968.46</td>\n",
       "      <td>C2013229423</td>\n",
       "      <td>29584.00</td>\n",
       "      <td>286552.46</td>\n",
       "      <td>C854247191</td>\n",
       "      <td>392797.46</td>\n",
       "      <td>135829.00</td>\n",
       "      <td>0</td>\n",
       "      <td>0</td>\n",
       "    </tr>\n",
       "    <tr>\n",
       "      <th>5075966</th>\n",
       "      <td>355</td>\n",
       "      <td>CASH_IN</td>\n",
       "      <td>253294.63</td>\n",
       "      <td>C165664720</td>\n",
       "      <td>1494262.87</td>\n",
       "      <td>1747557.50</td>\n",
       "      <td>C1824816416</td>\n",
       "      <td>1813254.26</td>\n",
       "      <td>1559959.62</td>\n",
       "      <td>0</td>\n",
       "      <td>0</td>\n",
       "    </tr>\n",
       "  </tbody>\n",
       "</table>\n",
       "</div>"
      ],
      "text/plain": [
       "         step      type    amount     nameOrig  oldbalanceOrg  newbalanceOrig  \\\n",
       "5911433   404  CASH_OUT 304411.73   C452750412        5589.00            0.00   \n",
       "3461285   257  CASH_OUT  23854.16    C59845919           0.00            0.00   \n",
       "1026786    48   CASH_IN  76748.80  C1737418168     8629241.49      8705990.29   \n",
       "4834989   347   CASH_IN 256968.46  C2013229423       29584.00       286552.46   \n",
       "5075966   355   CASH_IN 253294.63   C165664720     1494262.87      1747557.50   \n",
       "\n",
       "            nameDest  oldbalanceDest  newbalanceDest  isFraud  isFlaggedFraud  \n",
       "5911433   C359534268       237363.08       541774.81        0               0  \n",
       "3461285  C1699100984       118965.14       142819.29        0               0  \n",
       "1026786  C1492865671      1171791.20      1095042.40        0               0  \n",
       "4834989   C854247191       392797.46       135829.00        0               0  \n",
       "5075966  C1824816416      1813254.26      1559959.62        0               0  "
      ]
     },
     "execution_count": 3,
     "metadata": {},
     "output_type": "execute_result"
    }
   ],
   "source": [
    "df.sample(5)"
   ]
  },
  {
   "cell_type": "code",
   "execution_count": 5,
   "id": "dd3022c8",
   "metadata": {},
   "outputs": [
    {
     "data": {
      "text/plain": [
       "(6362620, 11)"
      ]
     },
     "execution_count": 5,
     "metadata": {},
     "output_type": "execute_result"
    }
   ],
   "source": [
    "df.shape \n",
    "#the dataset contains huge amount of data ie near to 63 lac "
   ]
  },
  {
   "cell_type": "code",
   "execution_count": 6,
   "id": "10a442a7",
   "metadata": {},
   "outputs": [
    {
     "data": {
      "text/html": [
       "<div>\n",
       "<style scoped>\n",
       "    .dataframe tbody tr th:only-of-type {\n",
       "        vertical-align: middle;\n",
       "    }\n",
       "\n",
       "    .dataframe tbody tr th {\n",
       "        vertical-align: top;\n",
       "    }\n",
       "\n",
       "    .dataframe thead th {\n",
       "        text-align: right;\n",
       "    }\n",
       "</style>\n",
       "<table border=\"1\" class=\"dataframe\">\n",
       "  <thead>\n",
       "    <tr style=\"text-align: right;\">\n",
       "      <th></th>\n",
       "      <th>step</th>\n",
       "      <th>amount</th>\n",
       "      <th>oldbalanceOrg</th>\n",
       "      <th>newbalanceOrig</th>\n",
       "      <th>oldbalanceDest</th>\n",
       "      <th>newbalanceDest</th>\n",
       "      <th>isFraud</th>\n",
       "      <th>isFlaggedFraud</th>\n",
       "    </tr>\n",
       "  </thead>\n",
       "  <tbody>\n",
       "    <tr>\n",
       "      <th>count</th>\n",
       "      <td>6362620.00</td>\n",
       "      <td>6362620.00</td>\n",
       "      <td>6362620.00</td>\n",
       "      <td>6362620.00</td>\n",
       "      <td>6362620.00</td>\n",
       "      <td>6362620.00</td>\n",
       "      <td>6362620.00</td>\n",
       "      <td>6362620.00</td>\n",
       "    </tr>\n",
       "    <tr>\n",
       "      <th>mean</th>\n",
       "      <td>243.40</td>\n",
       "      <td>179861.90</td>\n",
       "      <td>833883.10</td>\n",
       "      <td>855113.67</td>\n",
       "      <td>1100701.67</td>\n",
       "      <td>1224996.40</td>\n",
       "      <td>0.00</td>\n",
       "      <td>0.00</td>\n",
       "    </tr>\n",
       "    <tr>\n",
       "      <th>std</th>\n",
       "      <td>142.33</td>\n",
       "      <td>603858.23</td>\n",
       "      <td>2888242.67</td>\n",
       "      <td>2924048.50</td>\n",
       "      <td>3399180.11</td>\n",
       "      <td>3674128.94</td>\n",
       "      <td>0.04</td>\n",
       "      <td>0.00</td>\n",
       "    </tr>\n",
       "    <tr>\n",
       "      <th>min</th>\n",
       "      <td>1.00</td>\n",
       "      <td>0.00</td>\n",
       "      <td>0.00</td>\n",
       "      <td>0.00</td>\n",
       "      <td>0.00</td>\n",
       "      <td>0.00</td>\n",
       "      <td>0.00</td>\n",
       "      <td>0.00</td>\n",
       "    </tr>\n",
       "    <tr>\n",
       "      <th>25%</th>\n",
       "      <td>156.00</td>\n",
       "      <td>13389.57</td>\n",
       "      <td>0.00</td>\n",
       "      <td>0.00</td>\n",
       "      <td>0.00</td>\n",
       "      <td>0.00</td>\n",
       "      <td>0.00</td>\n",
       "      <td>0.00</td>\n",
       "    </tr>\n",
       "    <tr>\n",
       "      <th>50%</th>\n",
       "      <td>239.00</td>\n",
       "      <td>74871.94</td>\n",
       "      <td>14208.00</td>\n",
       "      <td>0.00</td>\n",
       "      <td>132705.66</td>\n",
       "      <td>214661.44</td>\n",
       "      <td>0.00</td>\n",
       "      <td>0.00</td>\n",
       "    </tr>\n",
       "    <tr>\n",
       "      <th>75%</th>\n",
       "      <td>335.00</td>\n",
       "      <td>208721.48</td>\n",
       "      <td>107315.18</td>\n",
       "      <td>144258.41</td>\n",
       "      <td>943036.71</td>\n",
       "      <td>1111909.25</td>\n",
       "      <td>0.00</td>\n",
       "      <td>0.00</td>\n",
       "    </tr>\n",
       "    <tr>\n",
       "      <th>max</th>\n",
       "      <td>743.00</td>\n",
       "      <td>92445516.64</td>\n",
       "      <td>59585040.37</td>\n",
       "      <td>49585040.37</td>\n",
       "      <td>356015889.35</td>\n",
       "      <td>356179278.92</td>\n",
       "      <td>1.00</td>\n",
       "      <td>1.00</td>\n",
       "    </tr>\n",
       "  </tbody>\n",
       "</table>\n",
       "</div>"
      ],
      "text/plain": [
       "            step      amount  oldbalanceOrg  newbalanceOrig  oldbalanceDest  \\\n",
       "count 6362620.00  6362620.00     6362620.00      6362620.00      6362620.00   \n",
       "mean      243.40   179861.90      833883.10       855113.67      1100701.67   \n",
       "std       142.33   603858.23     2888242.67      2924048.50      3399180.11   \n",
       "min         1.00        0.00           0.00            0.00            0.00   \n",
       "25%       156.00    13389.57           0.00            0.00            0.00   \n",
       "50%       239.00    74871.94       14208.00            0.00       132705.66   \n",
       "75%       335.00   208721.48      107315.18       144258.41       943036.71   \n",
       "max       743.00 92445516.64    59585040.37     49585040.37    356015889.35   \n",
       "\n",
       "       newbalanceDest    isFraud  isFlaggedFraud  \n",
       "count      6362620.00 6362620.00      6362620.00  \n",
       "mean       1224996.40       0.00            0.00  \n",
       "std        3674128.94       0.04            0.00  \n",
       "min              0.00       0.00            0.00  \n",
       "25%              0.00       0.00            0.00  \n",
       "50%         214661.44       0.00            0.00  \n",
       "75%        1111909.25       0.00            0.00  \n",
       "max      356179278.92       1.00            1.00  "
      ]
     },
     "execution_count": 6,
     "metadata": {},
     "output_type": "execute_result"
    }
   ],
   "source": [
    "df.describe()"
   ]
  },
  {
   "cell_type": "code",
   "execution_count": null,
   "id": "2f5c46ca",
   "metadata": {},
   "outputs": [],
   "source": []
  },
  {
   "cell_type": "code",
   "execution_count": 7,
   "id": "657b162f",
   "metadata": {},
   "outputs": [],
   "source": [
    "df.drop(columns=['isFlaggedFraud'],inplace=True)\n",
    "# dropping a column because of no usecase"
   ]
  },
  {
   "cell_type": "markdown",
   "id": "669e5a48",
   "metadata": {},
   "source": [
    "### Data Pre-processing"
   ]
  },
  {
   "cell_type": "code",
   "execution_count": 8,
   "id": "2599712c",
   "metadata": {},
   "outputs": [
    {
     "data": {
      "text/plain": [
       "0    6354407\n",
       "1       8213\n",
       "Name: isFraud, dtype: int64"
      ]
     },
     "execution_count": 8,
     "metadata": {},
     "output_type": "execute_result"
    }
   ],
   "source": [
    "df.isFraud.value_counts()"
   ]
  },
  {
   "cell_type": "code",
   "execution_count": 9,
   "id": "7a2fa6e1",
   "metadata": {},
   "outputs": [
    {
     "data": {
      "text/plain": [
       "step              0\n",
       "type              0\n",
       "amount            0\n",
       "nameOrig          0\n",
       "oldbalanceOrg     0\n",
       "newbalanceOrig    0\n",
       "nameDest          0\n",
       "oldbalanceDest    0\n",
       "newbalanceDest    0\n",
       "isFraud           0\n",
       "dtype: int64"
      ]
     },
     "execution_count": 9,
     "metadata": {},
     "output_type": "execute_result"
    }
   ],
   "source": [
    "df.isnull().sum()"
   ]
  },
  {
   "cell_type": "code",
   "execution_count": 10,
   "id": "fbc4588c",
   "metadata": {},
   "outputs": [
    {
     "data": {
      "text/html": [
       "<div>\n",
       "<style scoped>\n",
       "    .dataframe tbody tr th:only-of-type {\n",
       "        vertical-align: middle;\n",
       "    }\n",
       "\n",
       "    .dataframe tbody tr th {\n",
       "        vertical-align: top;\n",
       "    }\n",
       "\n",
       "    .dataframe thead th {\n",
       "        text-align: right;\n",
       "    }\n",
       "</style>\n",
       "<table border=\"1\" class=\"dataframe\">\n",
       "  <thead>\n",
       "    <tr style=\"text-align: right;\">\n",
       "      <th></th>\n",
       "      <th>step</th>\n",
       "      <th>type</th>\n",
       "      <th>amount</th>\n",
       "      <th>nameOrig</th>\n",
       "      <th>oldbalanceOrg</th>\n",
       "      <th>newbalanceOrig</th>\n",
       "      <th>nameDest</th>\n",
       "      <th>oldbalanceDest</th>\n",
       "      <th>newbalanceDest</th>\n",
       "      <th>isFraud</th>\n",
       "    </tr>\n",
       "  </thead>\n",
       "  <tbody>\n",
       "    <tr>\n",
       "      <th>0</th>\n",
       "      <td>1</td>\n",
       "      <td>PAYMENT</td>\n",
       "      <td>9839.64</td>\n",
       "      <td>C1231006815</td>\n",
       "      <td>170136.00</td>\n",
       "      <td>160296.36</td>\n",
       "      <td>M1979787155</td>\n",
       "      <td>0.00</td>\n",
       "      <td>0.00</td>\n",
       "      <td>0</td>\n",
       "    </tr>\n",
       "    <tr>\n",
       "      <th>1</th>\n",
       "      <td>1</td>\n",
       "      <td>PAYMENT</td>\n",
       "      <td>1864.28</td>\n",
       "      <td>C1666544295</td>\n",
       "      <td>21249.00</td>\n",
       "      <td>19384.72</td>\n",
       "      <td>M2044282225</td>\n",
       "      <td>0.00</td>\n",
       "      <td>0.00</td>\n",
       "      <td>0</td>\n",
       "    </tr>\n",
       "    <tr>\n",
       "      <th>2</th>\n",
       "      <td>1</td>\n",
       "      <td>TRANSFER</td>\n",
       "      <td>181.00</td>\n",
       "      <td>C1305486145</td>\n",
       "      <td>181.00</td>\n",
       "      <td>0.00</td>\n",
       "      <td>C553264065</td>\n",
       "      <td>0.00</td>\n",
       "      <td>0.00</td>\n",
       "      <td>1</td>\n",
       "    </tr>\n",
       "    <tr>\n",
       "      <th>3</th>\n",
       "      <td>1</td>\n",
       "      <td>CASH_OUT</td>\n",
       "      <td>181.00</td>\n",
       "      <td>C840083671</td>\n",
       "      <td>181.00</td>\n",
       "      <td>0.00</td>\n",
       "      <td>C38997010</td>\n",
       "      <td>21182.00</td>\n",
       "      <td>0.00</td>\n",
       "      <td>1</td>\n",
       "    </tr>\n",
       "    <tr>\n",
       "      <th>4</th>\n",
       "      <td>1</td>\n",
       "      <td>PAYMENT</td>\n",
       "      <td>11668.14</td>\n",
       "      <td>C2048537720</td>\n",
       "      <td>41554.00</td>\n",
       "      <td>29885.86</td>\n",
       "      <td>M1230701703</td>\n",
       "      <td>0.00</td>\n",
       "      <td>0.00</td>\n",
       "      <td>0</td>\n",
       "    </tr>\n",
       "    <tr>\n",
       "      <th>5</th>\n",
       "      <td>1</td>\n",
       "      <td>PAYMENT</td>\n",
       "      <td>7817.71</td>\n",
       "      <td>C90045638</td>\n",
       "      <td>53860.00</td>\n",
       "      <td>46042.29</td>\n",
       "      <td>M573487274</td>\n",
       "      <td>0.00</td>\n",
       "      <td>0.00</td>\n",
       "      <td>0</td>\n",
       "    </tr>\n",
       "    <tr>\n",
       "      <th>6</th>\n",
       "      <td>1</td>\n",
       "      <td>PAYMENT</td>\n",
       "      <td>7107.77</td>\n",
       "      <td>C154988899</td>\n",
       "      <td>183195.00</td>\n",
       "      <td>176087.23</td>\n",
       "      <td>M408069119</td>\n",
       "      <td>0.00</td>\n",
       "      <td>0.00</td>\n",
       "      <td>0</td>\n",
       "    </tr>\n",
       "    <tr>\n",
       "      <th>7</th>\n",
       "      <td>1</td>\n",
       "      <td>PAYMENT</td>\n",
       "      <td>7861.64</td>\n",
       "      <td>C1912850431</td>\n",
       "      <td>176087.23</td>\n",
       "      <td>168225.59</td>\n",
       "      <td>M633326333</td>\n",
       "      <td>0.00</td>\n",
       "      <td>0.00</td>\n",
       "      <td>0</td>\n",
       "    </tr>\n",
       "    <tr>\n",
       "      <th>8</th>\n",
       "      <td>1</td>\n",
       "      <td>PAYMENT</td>\n",
       "      <td>4024.36</td>\n",
       "      <td>C1265012928</td>\n",
       "      <td>2671.00</td>\n",
       "      <td>0.00</td>\n",
       "      <td>M1176932104</td>\n",
       "      <td>0.00</td>\n",
       "      <td>0.00</td>\n",
       "      <td>0</td>\n",
       "    </tr>\n",
       "    <tr>\n",
       "      <th>9</th>\n",
       "      <td>1</td>\n",
       "      <td>DEBIT</td>\n",
       "      <td>5337.77</td>\n",
       "      <td>C712410124</td>\n",
       "      <td>41720.00</td>\n",
       "      <td>36382.23</td>\n",
       "      <td>C195600860</td>\n",
       "      <td>41898.00</td>\n",
       "      <td>40348.79</td>\n",
       "      <td>0</td>\n",
       "    </tr>\n",
       "  </tbody>\n",
       "</table>\n",
       "</div>"
      ],
      "text/plain": [
       "   step      type   amount     nameOrig  oldbalanceOrg  newbalanceOrig  \\\n",
       "0     1   PAYMENT  9839.64  C1231006815      170136.00       160296.36   \n",
       "1     1   PAYMENT  1864.28  C1666544295       21249.00        19384.72   \n",
       "2     1  TRANSFER   181.00  C1305486145         181.00            0.00   \n",
       "3     1  CASH_OUT   181.00   C840083671         181.00            0.00   \n",
       "4     1   PAYMENT 11668.14  C2048537720       41554.00        29885.86   \n",
       "5     1   PAYMENT  7817.71    C90045638       53860.00        46042.29   \n",
       "6     1   PAYMENT  7107.77   C154988899      183195.00       176087.23   \n",
       "7     1   PAYMENT  7861.64  C1912850431      176087.23       168225.59   \n",
       "8     1   PAYMENT  4024.36  C1265012928        2671.00            0.00   \n",
       "9     1     DEBIT  5337.77   C712410124       41720.00        36382.23   \n",
       "\n",
       "      nameDest  oldbalanceDest  newbalanceDest  isFraud  \n",
       "0  M1979787155            0.00            0.00        0  \n",
       "1  M2044282225            0.00            0.00        0  \n",
       "2   C553264065            0.00            0.00        1  \n",
       "3    C38997010        21182.00            0.00        1  \n",
       "4  M1230701703            0.00            0.00        0  \n",
       "5   M573487274            0.00            0.00        0  \n",
       "6   M408069119            0.00            0.00        0  \n",
       "7   M633326333            0.00            0.00        0  \n",
       "8  M1176932104            0.00            0.00        0  \n",
       "9   C195600860        41898.00        40348.79        0  "
      ]
     },
     "execution_count": 10,
     "metadata": {},
     "output_type": "execute_result"
    }
   ],
   "source": [
    "df.head(10)\n",
    "#we can see that there are lot of cases where values are zero and can be in any column so we ll impute them"
   ]
  },
  {
   "cell_type": "code",
   "execution_count": 11,
   "id": "75879ce5",
   "metadata": {},
   "outputs": [
    {
     "data": {
      "text/plain": [
       "(16, 10)"
      ]
     },
     "execution_count": 11,
     "metadata": {},
     "output_type": "execute_result"
    }
   ],
   "source": [
    "df[df.amount==0].shape #kind of looks like suspicious"
   ]
  },
  {
   "cell_type": "code",
   "execution_count": 12,
   "id": "ea0f7764",
   "metadata": {},
   "outputs": [
    {
     "name": "stdout",
     "output_type": "stream",
     "text": [
      "Percentage of zero values in each column:\n",
      "amount            0.00\n",
      "oldbalanceOrg    33.04\n",
      "newbalanceOrig   56.73\n",
      "oldbalanceDest   42.50\n",
      "newbalanceDest   38.34\n",
      "dtype: float64\n"
     ]
    }
   ],
   "source": [
    "# Calculate percentage of zeros in each column\n",
    "columns_to_check = ['amount','oldbalanceOrg', 'newbalanceOrig', 'oldbalanceDest', 'newbalanceDest']\n",
    "zero_percentage = df[columns_to_check].apply(lambda x: (x == 0).mean() * 100)\n",
    "\n",
    "# Print the results\n",
    "print(\"Percentage of zero values in each column:\")\n",
    "print(zero_percentage)"
   ]
  },
  {
   "cell_type": "markdown",
   "id": "a2e1c820",
   "metadata": {},
   "source": [
    "Imputing value at oldbalanceOrg, newbalanceOrig, oldbalanceDest and newbalanceDest for all columns."
   ]
  },
  {
   "cell_type": "code",
   "execution_count": 13,
   "id": "bfa1b912",
   "metadata": {},
   "outputs": [
    {
     "name": "stdout",
     "output_type": "stream",
     "text": [
      "Non-fraud rows with one zero in sender pair: 0\n",
      "Non-fraud rows with one zero in receiver pair: 125704\n"
     ]
    }
   ],
   "source": [
    "# one zero imputation case in both sender and reciever pairs\n",
    "\n",
    "# Sender pair imputation\n",
    "mask_sender = (df['isFraud'] == 0) & ((df['oldbalanceOrg'] == 0) ^ (df['newbalanceOrig'] == 0))\n",
    "df.loc[mask_sender & (df['oldbalanceOrg'] == 0), 'oldbalanceOrg'] = df['newbalanceOrig'] + df['amount']\n",
    "df.loc[mask_sender & (df['newbalanceOrig'] == 0), 'newbalanceOrig'] = df['oldbalanceOrg'] - df['amount']\n",
    "\n",
    "# Calculate median oldbalanceDest for each transaction type where oldbalanceDest is not zero\n",
    "median_balances = df[(df['oldbalanceDest'] != 0) & (df['isFraud'] == 0)].groupby('type')['oldbalanceDest'].median()\n",
    "\n",
    "# Receiver pair imputation\n",
    "mask_receiver = (df['isFraud'] == 0) & (df['oldbalanceDest'] == 0) & (df['newbalanceDest'] != 0) & (df['type'].isin(['CASH_OUT', 'TRANSFER']))\n",
    "df.loc[mask_receiver, 'oldbalanceDest'] = df.loc[mask_receiver, 'type'].map(median_balances)\n",
    "\n",
    "# Verification checks (these don't modify the data, just compute some values)\n",
    "sender_zero_count = ((df['oldbalanceOrg'] == 0) ^ (df['newbalanceOrig'] == 0)) & (df['isFraud'] == 0)\n",
    "receiver_zero_count = ((df['oldbalanceDest'] == 0) ^ (df['newbalanceDest'] == 0)) & (df['isFraud'] == 0)\n",
    "\n",
    "remaining_sender_zeros = sender_zero_count.sum()\n",
    "remaining_receiver_zeros = receiver_zero_count.sum()\n",
    "print(f\"Non-fraud rows with one zero in sender pair: {remaining_sender_zeros}\")\n",
    "print(f\"Non-fraud rows with one zero in receiver pair: {remaining_receiver_zeros}\")"
   ]
  },
  {
   "cell_type": "markdown",
   "id": "9fa12b4e",
   "metadata": {},
   "source": [
    "Above you can see there are still values which are 0 in the Recievers Pairs"
   ]
  },
  {
   "cell_type": "code",
   "execution_count": 14,
   "id": "1d78ae09",
   "metadata": {},
   "outputs": [
    {
     "name": "stdout",
     "output_type": "stream",
     "text": [
      "Before imputation (zero counts for non-fraud cases):\n",
      "{'oldbalanceOrg': 2088944, 'newbalanceOrig': 2088944, 'oldbalanceDest': 2316774, 'newbalanceDest': 2435342}\n",
      "\n",
      "After imputation (zero counts for non-fraud cases):\n",
      "{'oldbalanceOrg': 0, 'newbalanceOrig': 0, 'oldbalanceDest': 0, 'newbalanceDest': 0}\n",
      "\n",
      "Remaining zeros in sender pair: 0\n",
      "Remaining zeros in receiver pair: 0\n"
     ]
    }
   ],
   "source": [
    "# Function to report zero counts\n",
    "def report_zero_counts(df, mask):\n",
    "    return {\n",
    "        'oldbalanceOrg': (df['oldbalanceOrg'] == 0)[mask].sum(),\n",
    "        'newbalanceOrig': (df['newbalanceOrig'] == 0)[mask].sum(),\n",
    "        'oldbalanceDest': (df['oldbalanceDest'] == 0)[mask].sum(),\n",
    "        'newbalanceDest': (df['newbalanceDest'] == 0)[mask].sum()\n",
    "    }\n",
    "\n",
    "# Before imputation\n",
    "non_fraud_mask = df['isFraud'] == 0\n",
    "before_counts = report_zero_counts(df, non_fraud_mask)\n",
    "print(\"Before imputation (zero counts for non-fraud cases):\")\n",
    "print(before_counts)\n",
    "\n",
    "# Set random seed for reproducibility\n",
    "np.random.seed(42)\n",
    "\n",
    "# Function to generate random balance within specified range\n",
    "def random_balance(size):\n",
    "    return np.random.uniform(0, 1000000, size)\n",
    "\n",
    "# Sender pair imputation\n",
    "sender_zero_mask = (df['oldbalanceOrg'] == 0) & (df['newbalanceOrig'] == 0) & non_fraud_mask\n",
    "df.loc[sender_zero_mask, 'oldbalanceOrg'] = random_balance(sender_zero_mask.sum())\n",
    "df.loc[sender_zero_mask, 'newbalanceOrig'] = df.loc[sender_zero_mask, 'oldbalanceOrg'] - df.loc[sender_zero_mask, 'amount']\n",
    "\n",
    "# Handle cases where only one of oldbalanceOrg or newbalanceOrig is zero\n",
    "sender_one_zero_mask = ((df['oldbalanceOrg'] == 0) ^ (df['newbalanceOrig'] == 0)) & non_fraud_mask\n",
    "df.loc[sender_one_zero_mask & (df['oldbalanceOrg'] == 0), 'oldbalanceOrg'] = df.loc[sender_one_zero_mask & (df['oldbalanceOrg'] == 0), 'newbalanceOrig'] + df.loc[sender_one_zero_mask & (df['oldbalanceOrg'] == 0), 'amount']\n",
    "df.loc[sender_one_zero_mask & (df['newbalanceOrig'] == 0), 'newbalanceOrig'] = df.loc[sender_one_zero_mask & (df['newbalanceOrig'] == 0), 'oldbalanceOrg'] - df.loc[sender_one_zero_mask & (df['newbalanceOrig'] == 0), 'amount']\n",
    "\n",
    "# Receiver pair imputation\n",
    "receiver_zero_mask = (df['oldbalanceDest'] == 0) & (df['newbalanceDest'] == 0) & non_fraud_mask\n",
    "df.loc[receiver_zero_mask, 'oldbalanceDest'] = random_balance(receiver_zero_mask.sum())\n",
    "df.loc[receiver_zero_mask, 'newbalanceDest'] = df.loc[receiver_zero_mask, 'oldbalanceDest'] + df.loc[receiver_zero_mask, 'amount']\n",
    "\n",
    "# Handle cases where only one of oldbalanceDest or newbalanceDest is zero\n",
    "receiver_one_zero_mask = ((df['oldbalanceDest'] == 0) ^ (df['newbalanceDest'] == 0)) & non_fraud_mask\n",
    "df.loc[receiver_one_zero_mask & (df['oldbalanceDest'] == 0), 'oldbalanceDest'] = df.loc[receiver_one_zero_mask & (df['oldbalanceDest'] == 0), 'newbalanceDest'] - df.loc[receiver_one_zero_mask & (df['oldbalanceDest'] == 0), 'amount']\n",
    "df.loc[receiver_one_zero_mask & (df['newbalanceDest'] == 0), 'newbalanceDest'] = df.loc[receiver_one_zero_mask & (df['newbalanceDest'] == 0), 'oldbalanceDest'] + df.loc[receiver_one_zero_mask & (df['newbalanceDest'] == 0), 'amount']\n",
    "\n",
    "# After imputation\n",
    "after_counts = report_zero_counts(df, non_fraud_mask)\n",
    "print(\"\\nAfter imputation (zero counts for non-fraud cases):\")\n",
    "print(after_counts)\n",
    "\n",
    "# Verification checks\n",
    "sender_remaining_zeros = ((df['oldbalanceOrg'] == 0) | (df['newbalanceOrig'] == 0)) & non_fraud_mask\n",
    "receiver_remaining_zeros = ((df['oldbalanceDest'] == 0) | (df['newbalanceDest'] == 0)) & non_fraud_mask\n",
    "remaining_sender_zeros = sender_remaining_zeros.sum()\n",
    "remaining_receiver_zeros = receiver_remaining_zeros.sum()\n",
    "\n",
    "print(f\"\\nRemaining zeros in sender pair: {remaining_sender_zeros}\")\n",
    "print(f\"Remaining zeros in receiver pair: {remaining_receiver_zeros}\")\n",
    "\n",
    "# Additional statistics\n",
    "#print(\"\\nBefore imputation statistics:\")\n",
    "#print(df[['oldbalanceOrg', 'newbalanceOrig', 'oldbalanceDest', 'newbalanceDest']][non_fraud_mask].describe())\n",
    "\n",
    "#print(\"\\nAfter imputation statistics:\")\n",
    "#print(df[['oldbalanceOrg', 'newbalanceOrig', 'oldbalanceDest', 'newbalanceDest']][non_fraud_mask].describe())"
   ]
  },
  {
   "cell_type": "code",
   "execution_count": 15,
   "id": "8dc7ab4c",
   "metadata": {},
   "outputs": [
    {
     "data": {
      "text/html": [
       "<div>\n",
       "<style scoped>\n",
       "    .dataframe tbody tr th:only-of-type {\n",
       "        vertical-align: middle;\n",
       "    }\n",
       "\n",
       "    .dataframe tbody tr th {\n",
       "        vertical-align: top;\n",
       "    }\n",
       "\n",
       "    .dataframe thead th {\n",
       "        text-align: right;\n",
       "    }\n",
       "</style>\n",
       "<table border=\"1\" class=\"dataframe\">\n",
       "  <thead>\n",
       "    <tr style=\"text-align: right;\">\n",
       "      <th></th>\n",
       "      <th>step</th>\n",
       "      <th>type</th>\n",
       "      <th>amount</th>\n",
       "      <th>nameOrig</th>\n",
       "      <th>oldbalanceOrg</th>\n",
       "      <th>newbalanceOrig</th>\n",
       "      <th>nameDest</th>\n",
       "      <th>oldbalanceDest</th>\n",
       "      <th>newbalanceDest</th>\n",
       "      <th>isFraud</th>\n",
       "    </tr>\n",
       "  </thead>\n",
       "  <tbody>\n",
       "    <tr>\n",
       "      <th>0</th>\n",
       "      <td>1</td>\n",
       "      <td>PAYMENT</td>\n",
       "      <td>9839.64</td>\n",
       "      <td>C1231006815</td>\n",
       "      <td>170136.00</td>\n",
       "      <td>160296.36</td>\n",
       "      <td>M1979787155</td>\n",
       "      <td>910064.03</td>\n",
       "      <td>919903.67</td>\n",
       "      <td>0</td>\n",
       "    </tr>\n",
       "    <tr>\n",
       "      <th>1</th>\n",
       "      <td>1</td>\n",
       "      <td>PAYMENT</td>\n",
       "      <td>1864.28</td>\n",
       "      <td>C1666544295</td>\n",
       "      <td>21249.00</td>\n",
       "      <td>19384.72</td>\n",
       "      <td>M2044282225</td>\n",
       "      <td>910039.71</td>\n",
       "      <td>911903.99</td>\n",
       "      <td>0</td>\n",
       "    </tr>\n",
       "    <tr>\n",
       "      <th>2</th>\n",
       "      <td>1</td>\n",
       "      <td>TRANSFER</td>\n",
       "      <td>181.00</td>\n",
       "      <td>C1305486145</td>\n",
       "      <td>181.00</td>\n",
       "      <td>0.00</td>\n",
       "      <td>C553264065</td>\n",
       "      <td>0.00</td>\n",
       "      <td>0.00</td>\n",
       "      <td>1</td>\n",
       "    </tr>\n",
       "    <tr>\n",
       "      <th>3</th>\n",
       "      <td>1</td>\n",
       "      <td>CASH_OUT</td>\n",
       "      <td>181.00</td>\n",
       "      <td>C840083671</td>\n",
       "      <td>181.00</td>\n",
       "      <td>0.00</td>\n",
       "      <td>C38997010</td>\n",
       "      <td>21182.00</td>\n",
       "      <td>0.00</td>\n",
       "      <td>1</td>\n",
       "    </tr>\n",
       "    <tr>\n",
       "      <th>4</th>\n",
       "      <td>1</td>\n",
       "      <td>PAYMENT</td>\n",
       "      <td>11668.14</td>\n",
       "      <td>C2048537720</td>\n",
       "      <td>41554.00</td>\n",
       "      <td>29885.86</td>\n",
       "      <td>M1230701703</td>\n",
       "      <td>54245.57</td>\n",
       "      <td>65913.71</td>\n",
       "      <td>0</td>\n",
       "    </tr>\n",
       "    <tr>\n",
       "      <th>5</th>\n",
       "      <td>1</td>\n",
       "      <td>PAYMENT</td>\n",
       "      <td>7817.71</td>\n",
       "      <td>C90045638</td>\n",
       "      <td>53860.00</td>\n",
       "      <td>46042.29</td>\n",
       "      <td>M573487274</td>\n",
       "      <td>44609.61</td>\n",
       "      <td>52427.32</td>\n",
       "      <td>0</td>\n",
       "    </tr>\n",
       "    <tr>\n",
       "      <th>6</th>\n",
       "      <td>1</td>\n",
       "      <td>PAYMENT</td>\n",
       "      <td>7107.77</td>\n",
       "      <td>C154988899</td>\n",
       "      <td>183195.00</td>\n",
       "      <td>176087.23</td>\n",
       "      <td>M408069119</td>\n",
       "      <td>894512.34</td>\n",
       "      <td>901620.11</td>\n",
       "      <td>0</td>\n",
       "    </tr>\n",
       "    <tr>\n",
       "      <th>7</th>\n",
       "      <td>1</td>\n",
       "      <td>PAYMENT</td>\n",
       "      <td>7861.64</td>\n",
       "      <td>C1912850431</td>\n",
       "      <td>176087.23</td>\n",
       "      <td>168225.59</td>\n",
       "      <td>M633326333</td>\n",
       "      <td>727642.19</td>\n",
       "      <td>735503.83</td>\n",
       "      <td>0</td>\n",
       "    </tr>\n",
       "    <tr>\n",
       "      <th>8</th>\n",
       "      <td>1</td>\n",
       "      <td>PAYMENT</td>\n",
       "      <td>4024.36</td>\n",
       "      <td>C1265012928</td>\n",
       "      <td>2671.00</td>\n",
       "      <td>-1353.36</td>\n",
       "      <td>M1176932104</td>\n",
       "      <td>991843.34</td>\n",
       "      <td>995867.70</td>\n",
       "      <td>0</td>\n",
       "    </tr>\n",
       "    <tr>\n",
       "      <th>9</th>\n",
       "      <td>1</td>\n",
       "      <td>DEBIT</td>\n",
       "      <td>5337.77</td>\n",
       "      <td>C712410124</td>\n",
       "      <td>41720.00</td>\n",
       "      <td>36382.23</td>\n",
       "      <td>C195600860</td>\n",
       "      <td>41898.00</td>\n",
       "      <td>40348.79</td>\n",
       "      <td>0</td>\n",
       "    </tr>\n",
       "  </tbody>\n",
       "</table>\n",
       "</div>"
      ],
      "text/plain": [
       "   step      type   amount     nameOrig  oldbalanceOrg  newbalanceOrig  \\\n",
       "0     1   PAYMENT  9839.64  C1231006815      170136.00       160296.36   \n",
       "1     1   PAYMENT  1864.28  C1666544295       21249.00        19384.72   \n",
       "2     1  TRANSFER   181.00  C1305486145         181.00            0.00   \n",
       "3     1  CASH_OUT   181.00   C840083671         181.00            0.00   \n",
       "4     1   PAYMENT 11668.14  C2048537720       41554.00        29885.86   \n",
       "5     1   PAYMENT  7817.71    C90045638       53860.00        46042.29   \n",
       "6     1   PAYMENT  7107.77   C154988899      183195.00       176087.23   \n",
       "7     1   PAYMENT  7861.64  C1912850431      176087.23       168225.59   \n",
       "8     1   PAYMENT  4024.36  C1265012928        2671.00        -1353.36   \n",
       "9     1     DEBIT  5337.77   C712410124       41720.00        36382.23   \n",
       "\n",
       "      nameDest  oldbalanceDest  newbalanceDest  isFraud  \n",
       "0  M1979787155       910064.03       919903.67        0  \n",
       "1  M2044282225       910039.71       911903.99        0  \n",
       "2   C553264065            0.00            0.00        1  \n",
       "3    C38997010        21182.00            0.00        1  \n",
       "4  M1230701703        54245.57        65913.71        0  \n",
       "5   M573487274        44609.61        52427.32        0  \n",
       "6   M408069119       894512.34       901620.11        0  \n",
       "7   M633326333       727642.19       735503.83        0  \n",
       "8  M1176932104       991843.34       995867.70        0  \n",
       "9   C195600860        41898.00        40348.79        0  "
      ]
     },
     "execution_count": 15,
     "metadata": {},
     "output_type": "execute_result"
    }
   ],
   "source": [
    "df.head(10)"
   ]
  },
  {
   "cell_type": "code",
   "execution_count": null,
   "id": "e0bffc43",
   "metadata": {},
   "outputs": [],
   "source": []
  },
  {
   "cell_type": "markdown",
   "id": "99dcc650",
   "metadata": {},
   "source": [
    "Now Doing the same for Fradulent Cases."
   ]
  },
  {
   "cell_type": "code",
   "execution_count": 16,
   "id": "f95b7d52",
   "metadata": {},
   "outputs": [
    {
     "name": "stdout",
     "output_type": "stream",
     "text": [
      "Before adjustment:\n",
      "Total fraudulent transactions: 8213\n",
      "Fraudulent transactions satisfying receiver equation with non-zero amount: 3961\n",
      "\n",
      "After adjustment:\n",
      "Fraudulent transactions satisfying receiver equation with non-zero amount: 3\n",
      "\n",
      "Number of rows changed: 3958\n",
      "\n",
      "Final check - Fraudulent transactions with maintained receiver equation and non-zero amount: 3\n"
     ]
    }
   ],
   "source": [
    "def adjust_fraudulent_transactions(df):\n",
    "    # Filter fraudulent transactions\n",
    "    fraud_mask = df['isFraud'] == 1\n",
    "    fraud_df = df[fraud_mask].copy()\n",
    "    \n",
    "    # Check which fraudulent transactions satisfy the receiver's equation and have non-zero amount\n",
    "    receiver_eq_satisfied = np.isclose(\n",
    "        fraud_df['oldbalanceDest'] + fraud_df['amount'],\n",
    "        fraud_df['newbalanceDest']\n",
    "    ) & (fraud_df['amount'] > 0)\n",
    "    \n",
    "    print(f\"Before adjustment:\")\n",
    "    print(f\"Total fraudulent transactions: {len(fraud_df)}\")\n",
    "    print(f\"Fraudulent transactions satisfying receiver equation with non-zero amount: {receiver_eq_satisfied.sum()}\")\n",
    "    \n",
    "    # Print details of transactions satisfying the equation\n",
    "    satisfied_transactions = fraud_df[receiver_eq_satisfied]\n",
    "    if not satisfied_transactions.empty:\n",
    "        #print(\"\\nDetails of transactions satisfying the equation:\")\n",
    "        #print(satisfied_transactions[['oldbalanceDest', 'amount', 'newbalanceDest']])\n",
    "    \n",
    "        # For those cases, modify newbalanceDest\n",
    "        adjustment = satisfied_transactions['amount'] * np.random.uniform(0.1, 0.5, size=len(satisfied_transactions))\n",
    "        fraud_df.loc[receiver_eq_satisfied, 'newbalanceDest'] += adjustment.values\n",
    "    \n",
    "    # Update the original DataFrame\n",
    "    df.loc[fraud_mask] = fraud_df\n",
    "    \n",
    "    # Check results after adjustment\n",
    "    receiver_eq_satisfied_after = np.isclose(\n",
    "        df.loc[fraud_mask, 'oldbalanceDest'] + df.loc[fraud_mask, 'amount'],\n",
    "        df.loc[fraud_mask, 'newbalanceDest']\n",
    "    ) & (df.loc[fraud_mask, 'amount'] > 0)\n",
    "    \n",
    "    print(f\"\\nAfter adjustment:\")\n",
    "    print(f\"Fraudulent transactions satisfying receiver equation with non-zero amount: {receiver_eq_satisfied_after.sum()}\")\n",
    "    \n",
    "    # Check specific changes\n",
    "    changed_rows = (receiver_eq_satisfied != receiver_eq_satisfied_after).sum()\n",
    "    print(f\"\\nNumber of rows changed: {changed_rows}\")\n",
    "    \n",
    "    if changed_rows > 0:\n",
    "        # Print details of transactions after adjustment\n",
    "        adjusted_transactions = df.loc[fraud_mask & receiver_eq_satisfied]\n",
    "        #print(\"\\nDetails of adjusted transactions:\")\n",
    "        #print(adjusted_transactions[['oldbalanceDest', 'amount', 'newbalanceDest']])\n",
    "    \n",
    "    return df\n",
    "\n",
    "df = adjust_fraudulent_transactions(df)\n",
    "\n",
    "# Final check\n",
    "fraud_df = df[df['isFraud'] == 1]\n",
    "receiver_eq_maintained = np.isclose(\n",
    "    fraud_df['oldbalanceDest'] + fraud_df['amount'],\n",
    "    fraud_df['newbalanceDest']\n",
    ") & (fraud_df['amount'] > 0)\n",
    "print(f\"\\nFinal check - Fraudulent transactions with maintained receiver equation and non-zero amount: {receiver_eq_maintained.sum()}\")"
   ]
  },
  {
   "cell_type": "code",
   "execution_count": 17,
   "id": "83b70410",
   "metadata": {},
   "outputs": [
    {
     "data": {
      "text/html": [
       "<div>\n",
       "<style scoped>\n",
       "    .dataframe tbody tr th:only-of-type {\n",
       "        vertical-align: middle;\n",
       "    }\n",
       "\n",
       "    .dataframe tbody tr th {\n",
       "        vertical-align: top;\n",
       "    }\n",
       "\n",
       "    .dataframe thead th {\n",
       "        text-align: right;\n",
       "    }\n",
       "</style>\n",
       "<table border=\"1\" class=\"dataframe\">\n",
       "  <thead>\n",
       "    <tr style=\"text-align: right;\">\n",
       "      <th></th>\n",
       "      <th>step</th>\n",
       "      <th>type</th>\n",
       "      <th>amount</th>\n",
       "      <th>nameOrig</th>\n",
       "      <th>oldbalanceOrg</th>\n",
       "      <th>newbalanceOrig</th>\n",
       "      <th>nameDest</th>\n",
       "      <th>oldbalanceDest</th>\n",
       "      <th>newbalanceDest</th>\n",
       "      <th>isFraud</th>\n",
       "    </tr>\n",
       "  </thead>\n",
       "  <tbody>\n",
       "    <tr>\n",
       "      <th>0</th>\n",
       "      <td>1</td>\n",
       "      <td>PAYMENT</td>\n",
       "      <td>9839.64</td>\n",
       "      <td>C1231006815</td>\n",
       "      <td>170136.00</td>\n",
       "      <td>160296.36</td>\n",
       "      <td>M1979787155</td>\n",
       "      <td>910064.03</td>\n",
       "      <td>919903.67</td>\n",
       "      <td>0</td>\n",
       "    </tr>\n",
       "    <tr>\n",
       "      <th>1</th>\n",
       "      <td>1</td>\n",
       "      <td>PAYMENT</td>\n",
       "      <td>1864.28</td>\n",
       "      <td>C1666544295</td>\n",
       "      <td>21249.00</td>\n",
       "      <td>19384.72</td>\n",
       "      <td>M2044282225</td>\n",
       "      <td>910039.71</td>\n",
       "      <td>911903.99</td>\n",
       "      <td>0</td>\n",
       "    </tr>\n",
       "    <tr>\n",
       "      <th>2</th>\n",
       "      <td>1</td>\n",
       "      <td>TRANSFER</td>\n",
       "      <td>181.00</td>\n",
       "      <td>C1305486145</td>\n",
       "      <td>181.00</td>\n",
       "      <td>0.00</td>\n",
       "      <td>C553264065</td>\n",
       "      <td>0.00</td>\n",
       "      <td>0.00</td>\n",
       "      <td>1</td>\n",
       "    </tr>\n",
       "    <tr>\n",
       "      <th>3</th>\n",
       "      <td>1</td>\n",
       "      <td>CASH_OUT</td>\n",
       "      <td>181.00</td>\n",
       "      <td>C840083671</td>\n",
       "      <td>181.00</td>\n",
       "      <td>0.00</td>\n",
       "      <td>C38997010</td>\n",
       "      <td>21182.00</td>\n",
       "      <td>0.00</td>\n",
       "      <td>1</td>\n",
       "    </tr>\n",
       "    <tr>\n",
       "      <th>4</th>\n",
       "      <td>1</td>\n",
       "      <td>PAYMENT</td>\n",
       "      <td>11668.14</td>\n",
       "      <td>C2048537720</td>\n",
       "      <td>41554.00</td>\n",
       "      <td>29885.86</td>\n",
       "      <td>M1230701703</td>\n",
       "      <td>54245.57</td>\n",
       "      <td>65913.71</td>\n",
       "      <td>0</td>\n",
       "    </tr>\n",
       "    <tr>\n",
       "      <th>5</th>\n",
       "      <td>1</td>\n",
       "      <td>PAYMENT</td>\n",
       "      <td>7817.71</td>\n",
       "      <td>C90045638</td>\n",
       "      <td>53860.00</td>\n",
       "      <td>46042.29</td>\n",
       "      <td>M573487274</td>\n",
       "      <td>44609.61</td>\n",
       "      <td>52427.32</td>\n",
       "      <td>0</td>\n",
       "    </tr>\n",
       "    <tr>\n",
       "      <th>6</th>\n",
       "      <td>1</td>\n",
       "      <td>PAYMENT</td>\n",
       "      <td>7107.77</td>\n",
       "      <td>C154988899</td>\n",
       "      <td>183195.00</td>\n",
       "      <td>176087.23</td>\n",
       "      <td>M408069119</td>\n",
       "      <td>894512.34</td>\n",
       "      <td>901620.11</td>\n",
       "      <td>0</td>\n",
       "    </tr>\n",
       "    <tr>\n",
       "      <th>7</th>\n",
       "      <td>1</td>\n",
       "      <td>PAYMENT</td>\n",
       "      <td>7861.64</td>\n",
       "      <td>C1912850431</td>\n",
       "      <td>176087.23</td>\n",
       "      <td>168225.59</td>\n",
       "      <td>M633326333</td>\n",
       "      <td>727642.19</td>\n",
       "      <td>735503.83</td>\n",
       "      <td>0</td>\n",
       "    </tr>\n",
       "    <tr>\n",
       "      <th>8</th>\n",
       "      <td>1</td>\n",
       "      <td>PAYMENT</td>\n",
       "      <td>4024.36</td>\n",
       "      <td>C1265012928</td>\n",
       "      <td>2671.00</td>\n",
       "      <td>-1353.36</td>\n",
       "      <td>M1176932104</td>\n",
       "      <td>991843.34</td>\n",
       "      <td>995867.70</td>\n",
       "      <td>0</td>\n",
       "    </tr>\n",
       "    <tr>\n",
       "      <th>9</th>\n",
       "      <td>1</td>\n",
       "      <td>DEBIT</td>\n",
       "      <td>5337.77</td>\n",
       "      <td>C712410124</td>\n",
       "      <td>41720.00</td>\n",
       "      <td>36382.23</td>\n",
       "      <td>C195600860</td>\n",
       "      <td>41898.00</td>\n",
       "      <td>40348.79</td>\n",
       "      <td>0</td>\n",
       "    </tr>\n",
       "  </tbody>\n",
       "</table>\n",
       "</div>"
      ],
      "text/plain": [
       "   step      type   amount     nameOrig  oldbalanceOrg  newbalanceOrig  \\\n",
       "0     1   PAYMENT  9839.64  C1231006815      170136.00       160296.36   \n",
       "1     1   PAYMENT  1864.28  C1666544295       21249.00        19384.72   \n",
       "2     1  TRANSFER   181.00  C1305486145         181.00            0.00   \n",
       "3     1  CASH_OUT   181.00   C840083671         181.00            0.00   \n",
       "4     1   PAYMENT 11668.14  C2048537720       41554.00        29885.86   \n",
       "5     1   PAYMENT  7817.71    C90045638       53860.00        46042.29   \n",
       "6     1   PAYMENT  7107.77   C154988899      183195.00       176087.23   \n",
       "7     1   PAYMENT  7861.64  C1912850431      176087.23       168225.59   \n",
       "8     1   PAYMENT  4024.36  C1265012928        2671.00        -1353.36   \n",
       "9     1     DEBIT  5337.77   C712410124       41720.00        36382.23   \n",
       "\n",
       "      nameDest  oldbalanceDest  newbalanceDest  isFraud  \n",
       "0  M1979787155       910064.03       919903.67        0  \n",
       "1  M2044282225       910039.71       911903.99        0  \n",
       "2   C553264065            0.00            0.00        1  \n",
       "3    C38997010        21182.00            0.00        1  \n",
       "4  M1230701703        54245.57        65913.71        0  \n",
       "5   M573487274        44609.61        52427.32        0  \n",
       "6   M408069119       894512.34       901620.11        0  \n",
       "7   M633326333       727642.19       735503.83        0  \n",
       "8  M1176932104       991843.34       995867.70        0  \n",
       "9   C195600860        41898.00        40348.79        0  "
      ]
     },
     "execution_count": 17,
     "metadata": {},
     "output_type": "execute_result"
    }
   ],
   "source": [
    "df.head(10)"
   ]
  },
  {
   "cell_type": "markdown",
   "id": "165c626e",
   "metadata": {},
   "source": [
    "Now trying find Fraudulent cases in Non Fradulent Data"
   ]
  },
  {
   "cell_type": "code",
   "execution_count": 18,
   "id": "db2dd0a0",
   "metadata": {},
   "outputs": [
    {
     "name": "stdout",
     "output_type": "stream",
     "text": [
      "Number of rows updated from non-fraudulent to fraudulent: 880508\n"
     ]
    }
   ],
   "source": [
    "# Step 1: Identify non-fraudulent data\n",
    "non_fraud = df[df['isFraud'] == 0].copy()\n",
    "\n",
    "# Step 2: Define the conditions for potential fraud\n",
    "# Transactions that violate balance rules or have negative values\n",
    "fraud_condition = (\n",
    "    ((non_fraud['oldbalanceOrg'] - non_fraud['amount'] != non_fraud['newbalanceOrig']) |\n",
    "     (non_fraud['oldbalanceDest'] + non_fraud['amount'] != non_fraud['newbalanceDest'])) &\n",
    "    (\n",
    "        (non_fraud['oldbalanceOrg'] < 0) |\n",
    "        (non_fraud['newbalanceOrig'] < 0) |\n",
    "        (non_fraud['oldbalanceDest'] < 0) |\n",
    "        (non_fraud['newbalanceDest'] < 0)\n",
    "    )\n",
    ")\n",
    "\n",
    "# Count of rows before changes\n",
    "before_count = df['isFraud'].sum()\n",
    "\n",
    "# Step 3: Update `isFraud` for identified fraudulent cases\n",
    "df.loc[non_fraud.index[fraud_condition], 'isFraud'] = 1\n",
    "\n",
    "# Count of rows after changes\n",
    "after_count = df['isFraud'].sum()\n",
    "\n",
    "# Report the results\n",
    "changed_count = after_count - before_count\n",
    "print(f\"Number of rows updated from non-fraudulent to fraudulent: {changed_count}\")"
   ]
  },
  {
   "cell_type": "code",
   "execution_count": 19,
   "id": "fdfe1f30",
   "metadata": {},
   "outputs": [
    {
     "data": {
      "text/plain": [
       "0    5473899\n",
       "1     888721\n",
       "Name: isFraud, dtype: int64"
      ]
     },
     "execution_count": 19,
     "metadata": {},
     "output_type": "execute_result"
    }
   ],
   "source": [
    "df.isFraud.value_counts()"
   ]
  },
  {
   "cell_type": "code",
   "execution_count": 20,
   "id": "62056d81",
   "metadata": {},
   "outputs": [
    {
     "data": {
      "text/html": [
       "<div>\n",
       "<style scoped>\n",
       "    .dataframe tbody tr th:only-of-type {\n",
       "        vertical-align: middle;\n",
       "    }\n",
       "\n",
       "    .dataframe tbody tr th {\n",
       "        vertical-align: top;\n",
       "    }\n",
       "\n",
       "    .dataframe thead th {\n",
       "        text-align: right;\n",
       "    }\n",
       "</style>\n",
       "<table border=\"1\" class=\"dataframe\">\n",
       "  <thead>\n",
       "    <tr style=\"text-align: right;\">\n",
       "      <th></th>\n",
       "      <th>step</th>\n",
       "      <th>type</th>\n",
       "      <th>amount</th>\n",
       "      <th>nameOrig</th>\n",
       "      <th>oldbalanceOrg</th>\n",
       "      <th>newbalanceOrig</th>\n",
       "      <th>nameDest</th>\n",
       "      <th>oldbalanceDest</th>\n",
       "      <th>newbalanceDest</th>\n",
       "      <th>isFraud</th>\n",
       "    </tr>\n",
       "  </thead>\n",
       "  <tbody>\n",
       "    <tr>\n",
       "      <th>0</th>\n",
       "      <td>1</td>\n",
       "      <td>PAYMENT</td>\n",
       "      <td>9839.64</td>\n",
       "      <td>C1231006815</td>\n",
       "      <td>170136.00</td>\n",
       "      <td>160296.36</td>\n",
       "      <td>M1979787155</td>\n",
       "      <td>910064.03</td>\n",
       "      <td>919903.67</td>\n",
       "      <td>0</td>\n",
       "    </tr>\n",
       "    <tr>\n",
       "      <th>1</th>\n",
       "      <td>1</td>\n",
       "      <td>PAYMENT</td>\n",
       "      <td>1864.28</td>\n",
       "      <td>C1666544295</td>\n",
       "      <td>21249.00</td>\n",
       "      <td>19384.72</td>\n",
       "      <td>M2044282225</td>\n",
       "      <td>910039.71</td>\n",
       "      <td>911903.99</td>\n",
       "      <td>0</td>\n",
       "    </tr>\n",
       "    <tr>\n",
       "      <th>2</th>\n",
       "      <td>1</td>\n",
       "      <td>TRANSFER</td>\n",
       "      <td>181.00</td>\n",
       "      <td>C1305486145</td>\n",
       "      <td>181.00</td>\n",
       "      <td>0.00</td>\n",
       "      <td>C553264065</td>\n",
       "      <td>0.00</td>\n",
       "      <td>0.00</td>\n",
       "      <td>1</td>\n",
       "    </tr>\n",
       "    <tr>\n",
       "      <th>3</th>\n",
       "      <td>1</td>\n",
       "      <td>CASH_OUT</td>\n",
       "      <td>181.00</td>\n",
       "      <td>C840083671</td>\n",
       "      <td>181.00</td>\n",
       "      <td>0.00</td>\n",
       "      <td>C38997010</td>\n",
       "      <td>21182.00</td>\n",
       "      <td>0.00</td>\n",
       "      <td>1</td>\n",
       "    </tr>\n",
       "    <tr>\n",
       "      <th>4</th>\n",
       "      <td>1</td>\n",
       "      <td>PAYMENT</td>\n",
       "      <td>11668.14</td>\n",
       "      <td>C2048537720</td>\n",
       "      <td>41554.00</td>\n",
       "      <td>29885.86</td>\n",
       "      <td>M1230701703</td>\n",
       "      <td>54245.57</td>\n",
       "      <td>65913.71</td>\n",
       "      <td>0</td>\n",
       "    </tr>\n",
       "  </tbody>\n",
       "</table>\n",
       "</div>"
      ],
      "text/plain": [
       "   step      type   amount     nameOrig  oldbalanceOrg  newbalanceOrig  \\\n",
       "0     1   PAYMENT  9839.64  C1231006815      170136.00       160296.36   \n",
       "1     1   PAYMENT  1864.28  C1666544295       21249.00        19384.72   \n",
       "2     1  TRANSFER   181.00  C1305486145         181.00            0.00   \n",
       "3     1  CASH_OUT   181.00   C840083671         181.00            0.00   \n",
       "4     1   PAYMENT 11668.14  C2048537720       41554.00        29885.86   \n",
       "\n",
       "      nameDest  oldbalanceDest  newbalanceDest  isFraud  \n",
       "0  M1979787155       910064.03       919903.67        0  \n",
       "1  M2044282225       910039.71       911903.99        0  \n",
       "2   C553264065            0.00            0.00        1  \n",
       "3    C38997010        21182.00            0.00        1  \n",
       "4  M1230701703        54245.57        65913.71        0  "
      ]
     },
     "execution_count": 20,
     "metadata": {},
     "output_type": "execute_result"
    }
   ],
   "source": [
    "df.head()"
   ]
  },
  {
   "cell_type": "code",
   "execution_count": null,
   "id": "3b6982e7",
   "metadata": {},
   "outputs": [],
   "source": []
  },
  {
   "cell_type": "markdown",
   "id": "97ead541",
   "metadata": {},
   "source": [
    "### Data Cleaning"
   ]
  },
  {
   "cell_type": "code",
   "execution_count": 21,
   "id": "57eb62a1",
   "metadata": {},
   "outputs": [
    {
     "data": {
      "text/html": [
       "<div>\n",
       "<style scoped>\n",
       "    .dataframe tbody tr th:only-of-type {\n",
       "        vertical-align: middle;\n",
       "    }\n",
       "\n",
       "    .dataframe tbody tr th {\n",
       "        vertical-align: top;\n",
       "    }\n",
       "\n",
       "    .dataframe thead th {\n",
       "        text-align: right;\n",
       "    }\n",
       "</style>\n",
       "<table border=\"1\" class=\"dataframe\">\n",
       "  <thead>\n",
       "    <tr style=\"text-align: right;\">\n",
       "      <th></th>\n",
       "      <th>step</th>\n",
       "      <th>type</th>\n",
       "      <th>amount</th>\n",
       "      <th>nameOrig</th>\n",
       "      <th>oldbalanceOrg</th>\n",
       "      <th>newbalanceOrig</th>\n",
       "      <th>nameDest</th>\n",
       "      <th>oldbalanceDest</th>\n",
       "      <th>newbalanceDest</th>\n",
       "      <th>isFraud</th>\n",
       "    </tr>\n",
       "  </thead>\n",
       "  <tbody>\n",
       "    <tr>\n",
       "      <th>0</th>\n",
       "      <td>1</td>\n",
       "      <td>PAYMENT</td>\n",
       "      <td>9839.64</td>\n",
       "      <td>C1231006815</td>\n",
       "      <td>170136.00</td>\n",
       "      <td>160296.36</td>\n",
       "      <td>M1979787155</td>\n",
       "      <td>910064.03</td>\n",
       "      <td>919903.67</td>\n",
       "      <td>0</td>\n",
       "    </tr>\n",
       "    <tr>\n",
       "      <th>1</th>\n",
       "      <td>1</td>\n",
       "      <td>PAYMENT</td>\n",
       "      <td>1864.28</td>\n",
       "      <td>C1666544295</td>\n",
       "      <td>21249.00</td>\n",
       "      <td>19384.72</td>\n",
       "      <td>M2044282225</td>\n",
       "      <td>910039.71</td>\n",
       "      <td>911903.99</td>\n",
       "      <td>0</td>\n",
       "    </tr>\n",
       "    <tr>\n",
       "      <th>2</th>\n",
       "      <td>1</td>\n",
       "      <td>TRANSFER</td>\n",
       "      <td>181.00</td>\n",
       "      <td>C1305486145</td>\n",
       "      <td>181.00</td>\n",
       "      <td>0.00</td>\n",
       "      <td>C553264065</td>\n",
       "      <td>0.00</td>\n",
       "      <td>0.00</td>\n",
       "      <td>1</td>\n",
       "    </tr>\n",
       "    <tr>\n",
       "      <th>3</th>\n",
       "      <td>1</td>\n",
       "      <td>CASH_OUT</td>\n",
       "      <td>181.00</td>\n",
       "      <td>C840083671</td>\n",
       "      <td>181.00</td>\n",
       "      <td>0.00</td>\n",
       "      <td>C38997010</td>\n",
       "      <td>21182.00</td>\n",
       "      <td>0.00</td>\n",
       "      <td>1</td>\n",
       "    </tr>\n",
       "    <tr>\n",
       "      <th>4</th>\n",
       "      <td>1</td>\n",
       "      <td>PAYMENT</td>\n",
       "      <td>11668.14</td>\n",
       "      <td>C2048537720</td>\n",
       "      <td>41554.00</td>\n",
       "      <td>29885.86</td>\n",
       "      <td>M1230701703</td>\n",
       "      <td>54245.57</td>\n",
       "      <td>65913.71</td>\n",
       "      <td>0</td>\n",
       "    </tr>\n",
       "  </tbody>\n",
       "</table>\n",
       "</div>"
      ],
      "text/plain": [
       "   step      type   amount     nameOrig  oldbalanceOrg  newbalanceOrig  \\\n",
       "0     1   PAYMENT  9839.64  C1231006815      170136.00       160296.36   \n",
       "1     1   PAYMENT  1864.28  C1666544295       21249.00        19384.72   \n",
       "2     1  TRANSFER   181.00  C1305486145         181.00            0.00   \n",
       "3     1  CASH_OUT   181.00   C840083671         181.00            0.00   \n",
       "4     1   PAYMENT 11668.14  C2048537720       41554.00        29885.86   \n",
       "\n",
       "      nameDest  oldbalanceDest  newbalanceDest  isFraud  \n",
       "0  M1979787155       910064.03       919903.67        0  \n",
       "1  M2044282225       910039.71       911903.99        0  \n",
       "2   C553264065            0.00            0.00        1  \n",
       "3    C38997010        21182.00            0.00        1  \n",
       "4  M1230701703        54245.57        65913.71        0  "
      ]
     },
     "execution_count": 21,
     "metadata": {},
     "output_type": "execute_result"
    }
   ],
   "source": [
    "# Handling missing values\n",
    "df = df.fillna(0)  # or use df.dropna() to drop missing values\n",
    "\n",
    "# Remove duplicates\n",
    "df = df.drop_duplicates()\n",
    "\n",
    "# Convert data types if necessary (e.g., convert 'step' to integer)\n",
    "df['step'] = df['step'].astype(int)\n",
    "\n",
    "# Renaming columns for easier access (if needed)\n",
    "df.columns = ['step', 'type', 'amount', 'nameOrig', 'oldbalanceOrg', 'newbalanceOrig', 'nameDest', \n",
    "               'oldbalanceDest', 'newbalanceDest', 'isFraud']\n",
    "df.head()\n",
    "\n"
   ]
  },
  {
   "cell_type": "code",
   "execution_count": 22,
   "id": "04ec26c0",
   "metadata": {},
   "outputs": [
    {
     "data": {
      "text/html": [
       "<div>\n",
       "<style scoped>\n",
       "    .dataframe tbody tr th:only-of-type {\n",
       "        vertical-align: middle;\n",
       "    }\n",
       "\n",
       "    .dataframe tbody tr th {\n",
       "        vertical-align: top;\n",
       "    }\n",
       "\n",
       "    .dataframe thead th {\n",
       "        text-align: right;\n",
       "    }\n",
       "</style>\n",
       "<table border=\"1\" class=\"dataframe\">\n",
       "  <thead>\n",
       "    <tr style=\"text-align: right;\">\n",
       "      <th></th>\n",
       "      <th>step</th>\n",
       "      <th>type</th>\n",
       "      <th>amount</th>\n",
       "      <th>nameOrig</th>\n",
       "      <th>oldbalanceOrg</th>\n",
       "      <th>newbalanceOrig</th>\n",
       "      <th>nameDest</th>\n",
       "      <th>oldbalanceDest</th>\n",
       "      <th>newbalanceDest</th>\n",
       "      <th>isFraud</th>\n",
       "      <th>Status</th>\n",
       "    </tr>\n",
       "  </thead>\n",
       "  <tbody>\n",
       "    <tr>\n",
       "      <th>0</th>\n",
       "      <td>1</td>\n",
       "      <td>PAYMENT</td>\n",
       "      <td>9839.64</td>\n",
       "      <td>C1231006815</td>\n",
       "      <td>170136.00</td>\n",
       "      <td>160296.36</td>\n",
       "      <td>M1979787155</td>\n",
       "      <td>910064.03</td>\n",
       "      <td>919903.67</td>\n",
       "      <td>0</td>\n",
       "      <td>No Fraud</td>\n",
       "    </tr>\n",
       "    <tr>\n",
       "      <th>1</th>\n",
       "      <td>1</td>\n",
       "      <td>PAYMENT</td>\n",
       "      <td>1864.28</td>\n",
       "      <td>C1666544295</td>\n",
       "      <td>21249.00</td>\n",
       "      <td>19384.72</td>\n",
       "      <td>M2044282225</td>\n",
       "      <td>910039.71</td>\n",
       "      <td>911903.99</td>\n",
       "      <td>0</td>\n",
       "      <td>No Fraud</td>\n",
       "    </tr>\n",
       "    <tr>\n",
       "      <th>2</th>\n",
       "      <td>1</td>\n",
       "      <td>TRANSFER</td>\n",
       "      <td>181.00</td>\n",
       "      <td>C1305486145</td>\n",
       "      <td>181.00</td>\n",
       "      <td>0.00</td>\n",
       "      <td>C553264065</td>\n",
       "      <td>0.00</td>\n",
       "      <td>0.00</td>\n",
       "      <td>1</td>\n",
       "      <td>Fraud</td>\n",
       "    </tr>\n",
       "    <tr>\n",
       "      <th>3</th>\n",
       "      <td>1</td>\n",
       "      <td>CASH_OUT</td>\n",
       "      <td>181.00</td>\n",
       "      <td>C840083671</td>\n",
       "      <td>181.00</td>\n",
       "      <td>0.00</td>\n",
       "      <td>C38997010</td>\n",
       "      <td>21182.00</td>\n",
       "      <td>0.00</td>\n",
       "      <td>1</td>\n",
       "      <td>Fraud</td>\n",
       "    </tr>\n",
       "    <tr>\n",
       "      <th>4</th>\n",
       "      <td>1</td>\n",
       "      <td>PAYMENT</td>\n",
       "      <td>11668.14</td>\n",
       "      <td>C2048537720</td>\n",
       "      <td>41554.00</td>\n",
       "      <td>29885.86</td>\n",
       "      <td>M1230701703</td>\n",
       "      <td>54245.57</td>\n",
       "      <td>65913.71</td>\n",
       "      <td>0</td>\n",
       "      <td>No Fraud</td>\n",
       "    </tr>\n",
       "  </tbody>\n",
       "</table>\n",
       "</div>"
      ],
      "text/plain": [
       "   step      type   amount     nameOrig  oldbalanceOrg  newbalanceOrig  \\\n",
       "0     1   PAYMENT  9839.64  C1231006815      170136.00       160296.36   \n",
       "1     1   PAYMENT  1864.28  C1666544295       21249.00        19384.72   \n",
       "2     1  TRANSFER   181.00  C1305486145         181.00            0.00   \n",
       "3     1  CASH_OUT   181.00   C840083671         181.00            0.00   \n",
       "4     1   PAYMENT 11668.14  C2048537720       41554.00        29885.86   \n",
       "\n",
       "      nameDest  oldbalanceDest  newbalanceDest  isFraud    Status  \n",
       "0  M1979787155       910064.03       919903.67        0  No Fraud  \n",
       "1  M2044282225       910039.71       911903.99        0  No Fraud  \n",
       "2   C553264065            0.00            0.00        1     Fraud  \n",
       "3    C38997010        21182.00            0.00        1     Fraud  \n",
       "4  M1230701703        54245.57        65913.71        0  No Fraud  "
      ]
     },
     "execution_count": 22,
     "metadata": {},
     "output_type": "execute_result"
    }
   ],
   "source": [
    "# Now converting target variable to categorival feature instead we could've used label encoder too\n",
    "df['Status'] = df['isFraud'].map({0: \"No Fraud\", 1: \"Fraud\"})\n",
    "df.head()"
   ]
  },
  {
   "cell_type": "code",
   "execution_count": null,
   "id": "4a950434",
   "metadata": {},
   "outputs": [],
   "source": []
  },
  {
   "cell_type": "markdown",
   "id": "7122bcd3",
   "metadata": {},
   "source": [
    "Outlier Treatment for amount column"
   ]
  },
  {
   "cell_type": "code",
   "execution_count": 23,
   "id": "60a69c1d",
   "metadata": {},
   "outputs": [
    {
     "name": "stdout",
     "output_type": "stream",
     "text": [
      "count    6362620.00\n",
      "mean      179861.90\n",
      "std       603858.23\n",
      "min            0.00\n",
      "25%        13389.57\n",
      "50%        74871.94\n",
      "75%       208721.48\n",
      "max     92445516.64\n",
      "Name: amount, dtype: float64\n"
     ]
    }
   ],
   "source": [
    "# Set pandas options to display float values in full\n",
    "pd.set_option('display.float_format', '{:.2f}'.format)\n",
    "\n",
    "# Example DataFrame description\n",
    "print(df['amount'].describe())\n",
    "#by looking at this it seems amount has outlier that need to be treated "
   ]
  },
  {
   "cell_type": "code",
   "execution_count": 24,
   "id": "c9e88b7f",
   "metadata": {},
   "outputs": [
    {
     "data": {
      "text/plain": [
       "0    5473899\n",
       "1     888721\n",
       "Name: isFraud, dtype: int64"
      ]
     },
     "execution_count": 24,
     "metadata": {},
     "output_type": "execute_result"
    }
   ],
   "source": [
    "df.isFraud.value_counts()"
   ]
  },
  {
   "cell_type": "code",
   "execution_count": 25,
   "id": "f0e343a1",
   "metadata": {},
   "outputs": [
    {
     "data": {
      "text/plain": [
       "365423.30900000007"
      ]
     },
     "execution_count": 25,
     "metadata": {},
     "output_type": "execute_result"
    }
   ],
   "source": [
    "df['amount'].quantile(0.90)"
   ]
  },
  {
   "cell_type": "code",
   "execution_count": 26,
   "id": "0714fea2",
   "metadata": {},
   "outputs": [
    {
     "data": {
      "text/plain": [
       "0    389505\n",
       "1    246757\n",
       "Name: isFraud, dtype: int64"
      ]
     },
     "execution_count": 26,
     "metadata": {},
     "output_type": "execute_result"
    }
   ],
   "source": [
    "percentile_90 = df['amount'].quantile(0.90)\n",
    "df[df['amount'] > percentile_90].isFraud.value_counts()\n",
    "# checking if outliers are present in the specified quantile value"
   ]
  },
  {
   "cell_type": "code",
   "execution_count": null,
   "id": "3da8e7de",
   "metadata": {},
   "outputs": [],
   "source": []
  },
  {
   "cell_type": "code",
   "execution_count": 27,
   "id": "9c9f3106",
   "metadata": {},
   "outputs": [
    {
     "data": {
      "image/png": "[encoded data removed]",
      "text/plain": [
       "<Figure size 720x360 with 1 Axes>"
      ]
     },
     "metadata": {
      "needs_background": "light"
     },
     "output_type": "display_data"
    }
   ],
   "source": [
    "# lets visualise the amount column to better understand \n",
    "# Boxplot\n",
    "plt.figure(figsize=(10, 5))\n",
    "plt.boxplot(df['amount'], vert=False, patch_artist=True)\n",
    "plt.title('Boxplot of Amount')\n",
    "plt.xlabel('Amount')\n",
    "plt.show()\n"
   ]
  },
  {
   "cell_type": "markdown",
   "id": "3960d916",
   "metadata": {},
   "source": [
    "Bolplot of amount showing it has too many outliers"
   ]
  },
  {
   "cell_type": "code",
   "execution_count": 28,
   "id": "6e6fb609",
   "metadata": {},
   "outputs": [],
   "source": [
    "# Filter the DataFrame to remove rows where 'amount' is greater than the 80th percentile because of too many outliers in it\n",
    "df = df[df['amount'] <= percentile_90]"
   ]
  },
  {
   "cell_type": "code",
   "execution_count": 29,
   "id": "4deb7f63",
   "metadata": {},
   "outputs": [
    {
     "data": {
      "image/png": "[encoded data removed]",
      "text/plain": [
       "<Figure size 720x360 with 1 Axes>"
      ]
     },
     "metadata": {
      "needs_background": "light"
     },
     "output_type": "display_data"
    }
   ],
   "source": [
    "# lets visualise the amount column After outlier treatment\n",
    "# Boxplot\n",
    "plt.figure(figsize=(10, 5))\n",
    "plt.boxplot(df['amount'], vert=False, patch_artist=True)\n",
    "plt.title('Boxplot of Amount')\n",
    "plt.xlabel('Amount')\n",
    "plt.show()"
   ]
  },
  {
   "cell_type": "code",
   "execution_count": 30,
   "id": "05132ced",
   "metadata": {},
   "outputs": [
    {
     "data": {
      "text/plain": [
       "0    5084394\n",
       "1     641964\n",
       "Name: isFraud, dtype: int64"
      ]
     },
     "execution_count": 30,
     "metadata": {},
     "output_type": "execute_result"
    }
   ],
   "source": [
    "df.isFraud.value_counts()"
   ]
  },
  {
   "cell_type": "code",
   "execution_count": 31,
   "id": "a94c05a5",
   "metadata": {},
   "outputs": [
    {
     "data": {
      "text/plain": [
       "count   5726358.00\n",
       "mean      95366.31\n",
       "std       99461.66\n",
       "min           0.00\n",
       "25%       11519.22\n",
       "50%       53495.58\n",
       "75%      162268.80\n",
       "max      365423.29\n",
       "Name: amount, dtype: float64"
      ]
     },
     "execution_count": 31,
     "metadata": {},
     "output_type": "execute_result"
    }
   ],
   "source": [
    "df.amount.describe()"
   ]
  },
  {
   "cell_type": "code",
   "execution_count": 32,
   "id": "215394c5",
   "metadata": {},
   "outputs": [
    {
     "data": {
      "text/html": [
       "<div>\n",
       "<style scoped>\n",
       "    .dataframe tbody tr th:only-of-type {\n",
       "        vertical-align: middle;\n",
       "    }\n",
       "\n",
       "    .dataframe tbody tr th {\n",
       "        vertical-align: top;\n",
       "    }\n",
       "\n",
       "    .dataframe thead th {\n",
       "        text-align: right;\n",
       "    }\n",
       "</style>\n",
       "<table border=\"1\" class=\"dataframe\">\n",
       "  <thead>\n",
       "    <tr style=\"text-align: right;\">\n",
       "      <th></th>\n",
       "      <th>step</th>\n",
       "      <th>type</th>\n",
       "      <th>amount</th>\n",
       "      <th>nameOrig</th>\n",
       "      <th>oldbalanceOrg</th>\n",
       "      <th>newbalanceOrig</th>\n",
       "      <th>nameDest</th>\n",
       "      <th>oldbalanceDest</th>\n",
       "      <th>newbalanceDest</th>\n",
       "      <th>isFraud</th>\n",
       "      <th>Status</th>\n",
       "    </tr>\n",
       "  </thead>\n",
       "  <tbody>\n",
       "    <tr>\n",
       "      <th>0</th>\n",
       "      <td>1</td>\n",
       "      <td>PAYMENT</td>\n",
       "      <td>9839.64</td>\n",
       "      <td>C1231006815</td>\n",
       "      <td>170136.00</td>\n",
       "      <td>160296.36</td>\n",
       "      <td>M1979787155</td>\n",
       "      <td>910064.03</td>\n",
       "      <td>919903.67</td>\n",
       "      <td>0</td>\n",
       "      <td>No Fraud</td>\n",
       "    </tr>\n",
       "    <tr>\n",
       "      <th>1</th>\n",
       "      <td>1</td>\n",
       "      <td>PAYMENT</td>\n",
       "      <td>1864.28</td>\n",
       "      <td>C1666544295</td>\n",
       "      <td>21249.00</td>\n",
       "      <td>19384.72</td>\n",
       "      <td>M2044282225</td>\n",
       "      <td>910039.71</td>\n",
       "      <td>911903.99</td>\n",
       "      <td>0</td>\n",
       "      <td>No Fraud</td>\n",
       "    </tr>\n",
       "    <tr>\n",
       "      <th>2</th>\n",
       "      <td>1</td>\n",
       "      <td>TRANSFER</td>\n",
       "      <td>181.00</td>\n",
       "      <td>C1305486145</td>\n",
       "      <td>181.00</td>\n",
       "      <td>0.00</td>\n",
       "      <td>C553264065</td>\n",
       "      <td>0.00</td>\n",
       "      <td>0.00</td>\n",
       "      <td>1</td>\n",
       "      <td>Fraud</td>\n",
       "    </tr>\n",
       "    <tr>\n",
       "      <th>3</th>\n",
       "      <td>1</td>\n",
       "      <td>CASH_OUT</td>\n",
       "      <td>181.00</td>\n",
       "      <td>C840083671</td>\n",
       "      <td>181.00</td>\n",
       "      <td>0.00</td>\n",
       "      <td>C38997010</td>\n",
       "      <td>21182.00</td>\n",
       "      <td>0.00</td>\n",
       "      <td>1</td>\n",
       "      <td>Fraud</td>\n",
       "    </tr>\n",
       "    <tr>\n",
       "      <th>4</th>\n",
       "      <td>1</td>\n",
       "      <td>PAYMENT</td>\n",
       "      <td>11668.14</td>\n",
       "      <td>C2048537720</td>\n",
       "      <td>41554.00</td>\n",
       "      <td>29885.86</td>\n",
       "      <td>M1230701703</td>\n",
       "      <td>54245.57</td>\n",
       "      <td>65913.71</td>\n",
       "      <td>0</td>\n",
       "      <td>No Fraud</td>\n",
       "    </tr>\n",
       "  </tbody>\n",
       "</table>\n",
       "</div>"
      ],
      "text/plain": [
       "   step      type   amount     nameOrig  oldbalanceOrg  newbalanceOrig  \\\n",
       "0     1   PAYMENT  9839.64  C1231006815      170136.00       160296.36   \n",
       "1     1   PAYMENT  1864.28  C1666544295       21249.00        19384.72   \n",
       "2     1  TRANSFER   181.00  C1305486145         181.00            0.00   \n",
       "3     1  CASH_OUT   181.00   C840083671         181.00            0.00   \n",
       "4     1   PAYMENT 11668.14  C2048537720       41554.00        29885.86   \n",
       "\n",
       "      nameDest  oldbalanceDest  newbalanceDest  isFraud    Status  \n",
       "0  M1979787155       910064.03       919903.67        0  No Fraud  \n",
       "1  M2044282225       910039.71       911903.99        0  No Fraud  \n",
       "2   C553264065            0.00            0.00        1     Fraud  \n",
       "3    C38997010        21182.00            0.00        1     Fraud  \n",
       "4  M1230701703        54245.57        65913.71        0  No Fraud  "
      ]
     },
     "execution_count": 32,
     "metadata": {},
     "output_type": "execute_result"
    }
   ],
   "source": [
    "df.head()"
   ]
  },
  {
   "cell_type": "code",
   "execution_count": null,
   "id": "a184fb1b",
   "metadata": {},
   "outputs": [],
   "source": []
  },
  {
   "cell_type": "code",
   "execution_count": 36,
   "id": "ede5274d",
   "metadata": {},
   "outputs": [
    {
     "data": {
      "text/plain": [
       "count   5726358.00\n",
       "mean        243.69\n",
       "std         142.22\n",
       "min           1.00\n",
       "25%         156.00\n",
       "50%         239.00\n",
       "75%         334.00\n",
       "max         743.00\n",
       "Name: step, dtype: float64"
      ]
     },
     "execution_count": 36,
     "metadata": {},
     "output_type": "execute_result"
    }
   ],
   "source": [
    "df.step.describe()"
   ]
  },
  {
   "cell_type": "markdown",
   "id": "cdf1e9d7",
   "metadata": {},
   "source": [
    "Creating bins for step count to visualise"
   ]
  },
  {
   "cell_type": "code",
   "execution_count": 37,
   "id": "70cd3c91",
   "metadata": {},
   "outputs": [
    {
     "name": "stdout",
     "output_type": "stream",
     "text": [
      "Week 1    1722502\n",
      "Week 2    2582073\n",
      "Week 3    1151173\n",
      "Week 4     210413\n",
      "Week 5      60197\n",
      "Name: Step_Bucket, dtype: int64\n"
     ]
    }
   ],
   "source": [
    "max_step = df['step'].max()\n",
    "# Define the number of weekly bins (5 weeks, each with 168 hours)\n",
    "weekly_bins = np.arange(0, max_step + 168, 168)  # Adding 168 to include the upper boundary  # Adding 745 to include the upper boundary\n",
    "\n",
    "# Create the bin labels\n",
    "bin_labels = [f'Week {i+1}' for i in range(len(weekly_bins) - 1)]\n",
    "\n",
    "# Create the bins and ensure labels are of type VARCHAR (string)\n",
    "df['Step_Bucket'] = pd.cut(df['step'], bins=weekly_bins, labels=bin_labels, right=False, include_lowest=True)\n",
    "\n",
    "# Ensure the Step_Bucket column is of type string (VARCHAR)\n",
    "df['Step_Bucket'] = df['Step_Bucket'].astype(str)\n",
    "\n",
    "# Display the DataFrame with the new column\n",
    "#print(df.head())\n",
    "\n",
    "# Display the distribution of the bins in ascending order\n",
    "print(df['Step_Bucket'].value_counts().sort_index())"
   ]
  },
  {
   "cell_type": "code",
   "execution_count": 38,
   "id": "e2ff42ef",
   "metadata": {},
   "outputs": [
    {
     "data": {
      "text/plain": [
       "step              0\n",
       "type              0\n",
       "amount            0\n",
       "nameOrig          0\n",
       "oldbalanceOrg     0\n",
       "newbalanceOrig    0\n",
       "nameDest          0\n",
       "oldbalanceDest    0\n",
       "newbalanceDest    0\n",
       "isFraud           0\n",
       "Status            0\n",
       "Step_Bucket       0\n",
       "dtype: int64"
      ]
     },
     "execution_count": 38,
     "metadata": {},
     "output_type": "execute_result"
    }
   ],
   "source": [
    "df.isnull().sum()"
   ]
  },
  {
   "cell_type": "code",
   "execution_count": 39,
   "id": "254d658e",
   "metadata": {},
   "outputs": [
    {
     "data": {
      "image/png": "[encoded data removed]",
      "text/plain": [
       "<Figure size 864x432 with 1 Axes>"
      ]
     },
     "metadata": {
      "needs_background": "light"
     },
     "output_type": "display_data"
    }
   ],
   "source": [
    "# Line plot of fraud rate over step buckets\n",
    "fraud_rate = df.groupby('Step_Bucket')['isFraud'].mean()\n",
    "plt.figure(figsize=(12, 6))\n",
    "fraud_rate.plot(kind='line', marker='o')\n",
    "plt.title('Fraud Rate by Step Bucket')\n",
    "plt.xlabel('Step Bucket')\n",
    "plt.ylabel('Fraud Rate')\n",
    "plt.xticks(rotation=45)\n",
    "plt.tight_layout()\n",
    "plt.show()"
   ]
  },
  {
   "cell_type": "markdown",
   "id": "46ee8882",
   "metadata": {},
   "source": [
    "The sharp increase in fraud rate during Weeks 4 and 5 warrants immediate investigation, as it could indicate evolving fraud tactics or reduced security measures towards the end of the period."
   ]
  },
  {
   "cell_type": "code",
   "execution_count": null,
   "id": "cb020b0b",
   "metadata": {},
   "outputs": [],
   "source": []
  },
  {
   "cell_type": "code",
   "execution_count": null,
   "id": "28960905",
   "metadata": {},
   "outputs": [],
   "source": []
  },
  {
   "cell_type": "markdown",
   "id": "f39b6828",
   "metadata": {},
   "source": [
    "### EDA- EXPLORATORY DATA ANALYSIS"
   ]
  },
  {
   "cell_type": "code",
   "execution_count": 40,
   "id": "ecf83901",
   "metadata": {},
   "outputs": [
    {
     "data": {
      "text/plain": [
       "step              0\n",
       "type              0\n",
       "amount            0\n",
       "nameOrig          0\n",
       "oldbalanceOrg     0\n",
       "newbalanceOrig    0\n",
       "nameDest          0\n",
       "oldbalanceDest    0\n",
       "newbalanceDest    0\n",
       "isFraud           0\n",
       "Status            0\n",
       "Step_Bucket       0\n",
       "dtype: int64"
      ]
     },
     "execution_count": 40,
     "metadata": {},
     "output_type": "execute_result"
    }
   ],
   "source": [
    "df.isnull().sum()\n",
    "#there is no null value in the dataset"
   ]
  },
  {
   "cell_type": "code",
   "execution_count": 41,
   "id": "8f3492c1",
   "metadata": {},
   "outputs": [
    {
     "name": "stdout",
     "output_type": "stream",
     "text": [
      "<class 'pandas.core.frame.DataFrame'>\n",
      "Int64Index: 5726358 entries, 0 to 6362615\n",
      "Data columns (total 12 columns):\n",
      " #   Column          Dtype  \n",
      "---  ------          -----  \n",
      " 0   step            int32  \n",
      " 1   type            object \n",
      " 2   amount          float64\n",
      " 3   nameOrig        object \n",
      " 4   oldbalanceOrg   float64\n",
      " 5   newbalanceOrig  float64\n",
      " 6   nameDest        object \n",
      " 7   oldbalanceDest  float64\n",
      " 8   newbalanceDest  float64\n",
      " 9   isFraud         int64  \n",
      " 10  Status          object \n",
      " 11  Step_Bucket     object \n",
      "dtypes: float64(5), int32(1), int64(1), object(5)\n",
      "memory usage: 546.1+ MB\n"
     ]
    }
   ],
   "source": [
    "# Dataset information and checking the Datatypes of all the columns.\n",
    "df.info()"
   ]
  },
  {
   "cell_type": "code",
   "execution_count": 42,
   "id": "ef589e69",
   "metadata": {},
   "outputs": [
    {
     "data": {
      "text/plain": [
       "0    5084394\n",
       "1     641964\n",
       "Name: isFraud, dtype: int64"
      ]
     },
     "execution_count": 42,
     "metadata": {},
     "output_type": "execute_result"
    }
   ],
   "source": [
    "df.isFraud.value_counts()"
   ]
  },
  {
   "cell_type": "code",
   "execution_count": 43,
   "id": "0357bdef",
   "metadata": {},
   "outputs": [
    {
     "data": {
      "text/plain": [
       "PAYMENT     2151495\n",
       "CASH_OUT    2033730\n",
       "CASH_IN     1286405\n",
       "TRANSFER     213302\n",
       "DEBIT         41426\n",
       "Name: type, dtype: int64"
      ]
     },
     "execution_count": 43,
     "metadata": {},
     "output_type": "execute_result"
    }
   ],
   "source": [
    "df.type.value_counts() \n",
    "#Cashout and Payments are having hight value counts in the data"
   ]
  },
  {
   "cell_type": "code",
   "execution_count": 44,
   "id": "d2268580",
   "metadata": {},
   "outputs": [
    {
     "data": {
      "text/html": [
       "<div>\n",
       "<style scoped>\n",
       "    .dataframe tbody tr th:only-of-type {\n",
       "        vertical-align: middle;\n",
       "    }\n",
       "\n",
       "    .dataframe tbody tr th {\n",
       "        vertical-align: top;\n",
       "    }\n",
       "\n",
       "    .dataframe thead th {\n",
       "        text-align: right;\n",
       "    }\n",
       "</style>\n",
       "<table border=\"1\" class=\"dataframe\">\n",
       "  <thead>\n",
       "    <tr style=\"text-align: right;\">\n",
       "      <th></th>\n",
       "      <th>step</th>\n",
       "      <th>type</th>\n",
       "      <th>amount</th>\n",
       "      <th>nameOrig</th>\n",
       "      <th>oldbalanceOrg</th>\n",
       "      <th>newbalanceOrig</th>\n",
       "      <th>nameDest</th>\n",
       "      <th>oldbalanceDest</th>\n",
       "      <th>newbalanceDest</th>\n",
       "      <th>isFraud</th>\n",
       "      <th>Status</th>\n",
       "      <th>Step_Bucket</th>\n",
       "    </tr>\n",
       "  </thead>\n",
       "  <tbody>\n",
       "    <tr>\n",
       "      <th>0</th>\n",
       "      <td>1</td>\n",
       "      <td>PAYMENT</td>\n",
       "      <td>9839.64</td>\n",
       "      <td>C1231006815</td>\n",
       "      <td>170136.00</td>\n",
       "      <td>160296.36</td>\n",
       "      <td>M1979787155</td>\n",
       "      <td>910064.03</td>\n",
       "      <td>919903.67</td>\n",
       "      <td>0</td>\n",
       "      <td>No Fraud</td>\n",
       "      <td>Week 1</td>\n",
       "    </tr>\n",
       "    <tr>\n",
       "      <th>1</th>\n",
       "      <td>1</td>\n",
       "      <td>PAYMENT</td>\n",
       "      <td>1864.28</td>\n",
       "      <td>C1666544295</td>\n",
       "      <td>21249.00</td>\n",
       "      <td>19384.72</td>\n",
       "      <td>M2044282225</td>\n",
       "      <td>910039.71</td>\n",
       "      <td>911903.99</td>\n",
       "      <td>0</td>\n",
       "      <td>No Fraud</td>\n",
       "      <td>Week 1</td>\n",
       "    </tr>\n",
       "    <tr>\n",
       "      <th>2</th>\n",
       "      <td>1</td>\n",
       "      <td>TRANSFER</td>\n",
       "      <td>181.00</td>\n",
       "      <td>C1305486145</td>\n",
       "      <td>181.00</td>\n",
       "      <td>0.00</td>\n",
       "      <td>C553264065</td>\n",
       "      <td>0.00</td>\n",
       "      <td>0.00</td>\n",
       "      <td>1</td>\n",
       "      <td>Fraud</td>\n",
       "      <td>Week 1</td>\n",
       "    </tr>\n",
       "    <tr>\n",
       "      <th>3</th>\n",
       "      <td>1</td>\n",
       "      <td>CASH_OUT</td>\n",
       "      <td>181.00</td>\n",
       "      <td>C840083671</td>\n",
       "      <td>181.00</td>\n",
       "      <td>0.00</td>\n",
       "      <td>C38997010</td>\n",
       "      <td>21182.00</td>\n",
       "      <td>0.00</td>\n",
       "      <td>1</td>\n",
       "      <td>Fraud</td>\n",
       "      <td>Week 1</td>\n",
       "    </tr>\n",
       "    <tr>\n",
       "      <th>4</th>\n",
       "      <td>1</td>\n",
       "      <td>PAYMENT</td>\n",
       "      <td>11668.14</td>\n",
       "      <td>C2048537720</td>\n",
       "      <td>41554.00</td>\n",
       "      <td>29885.86</td>\n",
       "      <td>M1230701703</td>\n",
       "      <td>54245.57</td>\n",
       "      <td>65913.71</td>\n",
       "      <td>0</td>\n",
       "      <td>No Fraud</td>\n",
       "      <td>Week 1</td>\n",
       "    </tr>\n",
       "  </tbody>\n",
       "</table>\n",
       "</div>"
      ],
      "text/plain": [
       "   step      type   amount     nameOrig  oldbalanceOrg  newbalanceOrig  \\\n",
       "0     1   PAYMENT  9839.64  C1231006815      170136.00       160296.36   \n",
       "1     1   PAYMENT  1864.28  C1666544295       21249.00        19384.72   \n",
       "2     1  TRANSFER   181.00  C1305486145         181.00            0.00   \n",
       "3     1  CASH_OUT   181.00   C840083671         181.00            0.00   \n",
       "4     1   PAYMENT 11668.14  C2048537720       41554.00        29885.86   \n",
       "\n",
       "      nameDest  oldbalanceDest  newbalanceDest  isFraud    Status Step_Bucket  \n",
       "0  M1979787155       910064.03       919903.67        0  No Fraud      Week 1  \n",
       "1  M2044282225       910039.71       911903.99        0  No Fraud      Week 1  \n",
       "2   C553264065            0.00            0.00        1     Fraud      Week 1  \n",
       "3    C38997010        21182.00            0.00        1     Fraud      Week 1  \n",
       "4  M1230701703        54245.57        65913.71        0  No Fraud      Week 1  "
      ]
     },
     "execution_count": 44,
     "metadata": {},
     "output_type": "execute_result"
    }
   ],
   "source": [
    "df.head()"
   ]
  },
  {
   "cell_type": "code",
   "execution_count": 45,
   "id": "2fc11fe9",
   "metadata": {},
   "outputs": [
    {
     "data": {
      "image/png": "[encoded data removed]",
      "text/plain": [
       "<Figure size 720x432 with 1 Axes>"
      ]
     },
     "metadata": {
      "needs_background": "light"
     },
     "output_type": "display_data"
    }
   ],
   "source": [
    "# transaction count by type\n",
    "plt.figure(figsize=(10, 6))\n",
    "sns.countplot(x='type', data=df, palette='viridis')\n",
    "plt.title('Count of Transactions by Type')\n",
    "plt.xlabel('Transaction Type')\n",
    "plt.ylabel('Count')\n",
    "plt.show()\n"
   ]
  },
  {
   "cell_type": "code",
   "execution_count": 46,
   "id": "2f79e850",
   "metadata": {},
   "outputs": [
    {
     "data": {
      "image/png": "[encoded data removed]",
      "text/plain": [
       "<Figure size 720x432 with 1 Axes>"
      ]
     },
     "metadata": {
      "needs_background": "light"
     },
     "output_type": "display_data"
    }
   ],
   "source": [
    "plt.figure(figsize=(10, 6))\n",
    "sns.countplot(x='type', hue='isFraud', data=df, palette='coolwarm')\n",
    "plt.title('Fraud Distribution by Transaction Type')\n",
    "plt.xlabel('Transaction Type')\n",
    "plt.ylabel('Count')\n",
    "plt.show()\n"
   ]
  },
  {
   "cell_type": "code",
   "execution_count": null,
   "id": "768325bc",
   "metadata": {},
   "outputs": [],
   "source": []
  },
  {
   "cell_type": "code",
   "execution_count": null,
   "id": "63793810",
   "metadata": {},
   "outputs": [],
   "source": []
  },
  {
   "cell_type": "markdown",
   "id": "e2eb8bef",
   "metadata": {},
   "source": [
    "### Data Visualisation"
   ]
  },
  {
   "cell_type": "code",
   "execution_count": 47,
   "id": "594c4f05",
   "metadata": {},
   "outputs": [],
   "source": [
    "target = 'isFraud'\n",
    "# setting up target as the target variable"
   ]
  },
  {
   "cell_type": "code",
   "execution_count": 48,
   "id": "232c228d",
   "metadata": {},
   "outputs": [
    {
     "data": {
      "text/plain": [
       "array([2151495, 2033730, 1286405,  213302,   41426], dtype=int64)"
      ]
     },
     "execution_count": 48,
     "metadata": {},
     "output_type": "execute_result"
    }
   ],
   "source": [
    "# Segregate the counting to plot and visualize the methods of transactions.\n",
    "type = df['type'].value_counts()\n",
    "transactions = type.index\n",
    "quantity = type.values\n",
    "quantity"
   ]
  },
  {
   "cell_type": "code",
   "execution_count": 49,
   "id": "be5befb3",
   "metadata": {},
   "outputs": [
    {
     "data": {
      "image/png": "[encoded data removed]",
      "text/plain": [
       "<Figure size 1080x432 with 1 Axes>"
      ]
     },
     "metadata": {},
     "output_type": "display_data"
    }
   ],
   "source": [
    "# By plotting the pie chart, visualize the whole dataset.\n",
    "plt.figure(figsize=(15, 6))\n",
    "plt.pie(quantity, labels=transactions, autopct=\"%1.1f%%\")\n",
    "plt.title('Distribution Pie Chart of Transactions Type')\n",
    "#plt.savefig('C:/Users/Ashyy/Desktop/NIT-Data Analytics/pie_chart.png')\n",
    "plt.show()"
   ]
  },
  {
   "cell_type": "code",
   "execution_count": 50,
   "id": "b1301f00",
   "metadata": {},
   "outputs": [
    {
     "name": "stdout",
     "output_type": "stream",
     "text": [
      "<class 'pandas.core.frame.DataFrame'>\n",
      "Int64Index: 5726358 entries, 0 to 6362615\n",
      "Data columns (total 12 columns):\n",
      " #   Column          Dtype  \n",
      "---  ------          -----  \n",
      " 0   step            int32  \n",
      " 1   type            object \n",
      " 2   amount          float64\n",
      " 3   nameOrig        object \n",
      " 4   oldbalanceOrg   float64\n",
      " 5   newbalanceOrig  float64\n",
      " 6   nameDest        object \n",
      " 7   oldbalanceDest  float64\n",
      " 8   newbalanceDest  float64\n",
      " 9   isFraud         int64  \n",
      " 10  Status          object \n",
      " 11  Step_Bucket     object \n",
      "dtypes: float64(5), int32(1), int64(1), object(5)\n",
      "memory usage: 546.1+ MB\n"
     ]
    }
   ],
   "source": [
    "df.info()"
   ]
  },
  {
   "cell_type": "code",
   "execution_count": 51,
   "id": "2dfbe504",
   "metadata": {},
   "outputs": [
    {
     "data": {
      "text/plain": [
       "isFraud           1.00\n",
       "amount            0.28\n",
       "oldbalanceDest    0.01\n",
       "newbalanceDest   -0.00\n",
       "step             -0.01\n",
       "oldbalanceOrg    -0.12\n",
       "newbalanceOrig   -0.14\n",
       "Name: isFraud, dtype: float64"
      ]
     },
     "execution_count": 51,
     "metadata": {},
     "output_type": "execute_result"
    }
   ],
   "source": [
    "# checking correlation of different feature with target variable \n",
    "# Checking for the relation of different features with the target variable.\n",
    "correlation = df.corr()\n",
    "correlation[target].sort_values(ascending=False)"
   ]
  },
  {
   "cell_type": "code",
   "execution_count": null,
   "id": "f605cdb9",
   "metadata": {},
   "outputs": [],
   "source": []
  },
  {
   "cell_type": "code",
   "execution_count": 52,
   "id": "123018d1",
   "metadata": {},
   "outputs": [
    {
     "data": {
      "text/plain": [
       "count   5726358.00\n",
       "mean      95366.31\n",
       "std       99461.66\n",
       "min           0.00\n",
       "25%       11519.22\n",
       "50%       53495.58\n",
       "75%      162268.80\n",
       "max      365423.29\n",
       "Name: amount, dtype: float64"
      ]
     },
     "execution_count": 52,
     "metadata": {},
     "output_type": "execute_result"
    }
   ],
   "source": [
    "df.amount.describe()"
   ]
  },
  {
   "cell_type": "markdown",
   "id": "9f63c181",
   "metadata": {},
   "source": [
    "Amount binning"
   ]
  },
  {
   "cell_type": "code",
   "execution_count": 53,
   "id": "f9694864",
   "metadata": {},
   "outputs": [
    {
     "name": "stdout",
     "output_type": "stream",
     "text": [
      "$0K-30K       2396411\n",
      "$30K-60K       581916\n",
      "$60K-91K       430665\n",
      "$91K-121K      398974\n",
      "$121K-152K     371963\n",
      "$152K-182K     336238\n",
      "$182K-213K     296655\n",
      "$213K-243K     254242\n",
      "$243K-274K     214646\n",
      "$274K-304K     178979\n",
      "$304K-334K     146893\n",
      "$334K-365K     118775\n",
      "Name: Amount_Bin_Bucket, dtype: int64\n"
     ]
    }
   ],
   "source": [
    "# Define the number of bins\n",
    "num_bins = 12\n",
    "\n",
    "# Define the bin edges\n",
    "bin_edges = np.linspace(0, 365423.29, num_bins + 1)\n",
    "\n",
    "# Create labels for the bins in 'K' format without decimals and with $ attached\n",
    "bin_labels = [f\"${int(start/1000)}K-{int(end/1000)}K\" for start, end in zip(bin_edges[:-1], bin_edges[1:])]\n",
    "\n",
    "# Create the bins and assign the labels\n",
    "df['Amount_Bin_Bucket'] = pd.cut(df['amount'], bins=bin_edges, labels=bin_labels, right=False, include_lowest=True)\n",
    "\n",
    "# Display the DataFrame with the new column\n",
    "#print(df.head())\n",
    "\n",
    "# Display the distribution of the bins\n",
    "print(df['Amount_Bin_Bucket'].value_counts().sort_index())"
   ]
  },
  {
   "cell_type": "code",
   "execution_count": 54,
   "id": "f1ae5810",
   "metadata": {},
   "outputs": [
    {
     "data": {
      "text/plain": [
       "(5726358, 13)"
      ]
     },
     "execution_count": 54,
     "metadata": {},
     "output_type": "execute_result"
    }
   ],
   "source": [
    "df.shape"
   ]
  },
  {
   "cell_type": "code",
   "execution_count": 55,
   "id": "e3fcca34",
   "metadata": {},
   "outputs": [
    {
     "data": {
      "image/png": "[encoded data removed]",
      "text/plain": [
       "<Figure size 1008x504 with 1 Axes>"
      ]
     },
     "metadata": {
      "needs_background": "light"
     },
     "output_type": "display_data"
    }
   ],
   "source": [
    "# Plot\n",
    "plt.figure(figsize=(14, 7))\n",
    "sns.countplot(x='Amount_Bin_Bucket', hue='isFraud', data=df, palette='Set2')\n",
    "plt.title('Transaction Count by Amount Bin Buckets and Fraud Status')\n",
    "plt.xlabel('Amount Bin Bucket')\n",
    "plt.ylabel('Count')\n",
    "plt.xticks(rotation=45)\n",
    "plt.show()"
   ]
  },
  {
   "cell_type": "markdown",
   "id": "55077fa7",
   "metadata": {},
   "source": [
    "Fraud occurs across all transaction amounts but is proportionally higher in larger transactions. While most transactions fall in the lowest bracket ($0-$30K), the fraud ratio increases in higher brackets. Fraud detection should focus on larger amounts without neglecting the high volume of smaller transactions."
   ]
  },
  {
   "cell_type": "code",
   "execution_count": 56,
   "id": "e7c09c50",
   "metadata": {},
   "outputs": [
    {
     "data": {
      "text/html": [
       "<div>\n",
       "<style scoped>\n",
       "    .dataframe tbody tr th:only-of-type {\n",
       "        vertical-align: middle;\n",
       "    }\n",
       "\n",
       "    .dataframe tbody tr th {\n",
       "        vertical-align: top;\n",
       "    }\n",
       "\n",
       "    .dataframe thead th {\n",
       "        text-align: right;\n",
       "    }\n",
       "</style>\n",
       "<table border=\"1\" class=\"dataframe\">\n",
       "  <thead>\n",
       "    <tr style=\"text-align: right;\">\n",
       "      <th></th>\n",
       "      <th>step</th>\n",
       "      <th>type</th>\n",
       "      <th>amount</th>\n",
       "      <th>nameOrig</th>\n",
       "      <th>oldbalanceOrg</th>\n",
       "      <th>newbalanceOrig</th>\n",
       "      <th>nameDest</th>\n",
       "      <th>oldbalanceDest</th>\n",
       "      <th>newbalanceDest</th>\n",
       "      <th>isFraud</th>\n",
       "      <th>Status</th>\n",
       "      <th>Step_Bucket</th>\n",
       "      <th>Amount_Bin_Bucket</th>\n",
       "    </tr>\n",
       "  </thead>\n",
       "  <tbody>\n",
       "    <tr>\n",
       "      <th>0</th>\n",
       "      <td>1</td>\n",
       "      <td>PAYMENT</td>\n",
       "      <td>9839.64</td>\n",
       "      <td>C1231006815</td>\n",
       "      <td>170136.00</td>\n",
       "      <td>160296.36</td>\n",
       "      <td>M1979787155</td>\n",
       "      <td>910064.03</td>\n",
       "      <td>919903.67</td>\n",
       "      <td>0</td>\n",
       "      <td>No Fraud</td>\n",
       "      <td>Week 1</td>\n",
       "      <td>$0K-30K</td>\n",
       "    </tr>\n",
       "    <tr>\n",
       "      <th>1</th>\n",
       "      <td>1</td>\n",
       "      <td>PAYMENT</td>\n",
       "      <td>1864.28</td>\n",
       "      <td>C1666544295</td>\n",
       "      <td>21249.00</td>\n",
       "      <td>19384.72</td>\n",
       "      <td>M2044282225</td>\n",
       "      <td>910039.71</td>\n",
       "      <td>911903.99</td>\n",
       "      <td>0</td>\n",
       "      <td>No Fraud</td>\n",
       "      <td>Week 1</td>\n",
       "      <td>$0K-30K</td>\n",
       "    </tr>\n",
       "    <tr>\n",
       "      <th>2</th>\n",
       "      <td>1</td>\n",
       "      <td>TRANSFER</td>\n",
       "      <td>181.00</td>\n",
       "      <td>C1305486145</td>\n",
       "      <td>181.00</td>\n",
       "      <td>0.00</td>\n",
       "      <td>C553264065</td>\n",
       "      <td>0.00</td>\n",
       "      <td>0.00</td>\n",
       "      <td>1</td>\n",
       "      <td>Fraud</td>\n",
       "      <td>Week 1</td>\n",
       "      <td>$0K-30K</td>\n",
       "    </tr>\n",
       "    <tr>\n",
       "      <th>3</th>\n",
       "      <td>1</td>\n",
       "      <td>CASH_OUT</td>\n",
       "      <td>181.00</td>\n",
       "      <td>C840083671</td>\n",
       "      <td>181.00</td>\n",
       "      <td>0.00</td>\n",
       "      <td>C38997010</td>\n",
       "      <td>21182.00</td>\n",
       "      <td>0.00</td>\n",
       "      <td>1</td>\n",
       "      <td>Fraud</td>\n",
       "      <td>Week 1</td>\n",
       "      <td>$0K-30K</td>\n",
       "    </tr>\n",
       "    <tr>\n",
       "      <th>4</th>\n",
       "      <td>1</td>\n",
       "      <td>PAYMENT</td>\n",
       "      <td>11668.14</td>\n",
       "      <td>C2048537720</td>\n",
       "      <td>41554.00</td>\n",
       "      <td>29885.86</td>\n",
       "      <td>M1230701703</td>\n",
       "      <td>54245.57</td>\n",
       "      <td>65913.71</td>\n",
       "      <td>0</td>\n",
       "      <td>No Fraud</td>\n",
       "      <td>Week 1</td>\n",
       "      <td>$0K-30K</td>\n",
       "    </tr>\n",
       "  </tbody>\n",
       "</table>\n",
       "</div>"
      ],
      "text/plain": [
       "   step      type   amount     nameOrig  oldbalanceOrg  newbalanceOrig  \\\n",
       "0     1   PAYMENT  9839.64  C1231006815      170136.00       160296.36   \n",
       "1     1   PAYMENT  1864.28  C1666544295       21249.00        19384.72   \n",
       "2     1  TRANSFER   181.00  C1305486145         181.00            0.00   \n",
       "3     1  CASH_OUT   181.00   C840083671         181.00            0.00   \n",
       "4     1   PAYMENT 11668.14  C2048537720       41554.00        29885.86   \n",
       "\n",
       "      nameDest  oldbalanceDest  newbalanceDest  isFraud    Status Step_Bucket  \\\n",
       "0  M1979787155       910064.03       919903.67        0  No Fraud      Week 1   \n",
       "1  M2044282225       910039.71       911903.99        0  No Fraud      Week 1   \n",
       "2   C553264065            0.00            0.00        1     Fraud      Week 1   \n",
       "3    C38997010        21182.00            0.00        1     Fraud      Week 1   \n",
       "4  M1230701703        54245.57        65913.71        0  No Fraud      Week 1   \n",
       "\n",
       "  Amount_Bin_Bucket  \n",
       "0           $0K-30K  \n",
       "1           $0K-30K  \n",
       "2           $0K-30K  \n",
       "3           $0K-30K  \n",
       "4           $0K-30K  "
      ]
     },
     "execution_count": 56,
     "metadata": {},
     "output_type": "execute_result"
    }
   ],
   "source": [
    "df.head()"
   ]
  },
  {
   "cell_type": "code",
   "execution_count": 57,
   "id": "e8d8f8c0",
   "metadata": {},
   "outputs": [
    {
     "data": {
      "text/plain": [
       "Week 2    2582073\n",
       "Week 1    1722502\n",
       "Week 3    1151173\n",
       "Week 4     210413\n",
       "Week 5      60197\n",
       "Name: Step_Bucket, dtype: int64"
      ]
     },
     "execution_count": 57,
     "metadata": {},
     "output_type": "execute_result"
    }
   ],
   "source": [
    "df.Step_Bucket.value_counts()"
   ]
  },
  {
   "cell_type": "code",
   "execution_count": 58,
   "id": "b4a60117",
   "metadata": {},
   "outputs": [
    {
     "data": {
      "text/html": [
       "<div>\n",
       "<style scoped>\n",
       "    .dataframe tbody tr th:only-of-type {\n",
       "        vertical-align: middle;\n",
       "    }\n",
       "\n",
       "    .dataframe tbody tr th {\n",
       "        vertical-align: top;\n",
       "    }\n",
       "\n",
       "    .dataframe thead th {\n",
       "        text-align: right;\n",
       "    }\n",
       "</style>\n",
       "<table border=\"1\" class=\"dataframe\">\n",
       "  <thead>\n",
       "    <tr style=\"text-align: right;\">\n",
       "      <th></th>\n",
       "      <th>step</th>\n",
       "      <th>type</th>\n",
       "      <th>amount</th>\n",
       "      <th>nameOrig</th>\n",
       "      <th>oldbalanceOrg</th>\n",
       "      <th>newbalanceOrig</th>\n",
       "      <th>nameDest</th>\n",
       "      <th>oldbalanceDest</th>\n",
       "      <th>newbalanceDest</th>\n",
       "      <th>isFraud</th>\n",
       "      <th>Status</th>\n",
       "      <th>Step_Bucket</th>\n",
       "      <th>Amount_Bin_Bucket</th>\n",
       "    </tr>\n",
       "  </thead>\n",
       "  <tbody>\n",
       "    <tr>\n",
       "      <th>0</th>\n",
       "      <td>1</td>\n",
       "      <td>PAYMENT</td>\n",
       "      <td>9839.64</td>\n",
       "      <td>C1231006815</td>\n",
       "      <td>170136.00</td>\n",
       "      <td>160296.36</td>\n",
       "      <td>M1979787155</td>\n",
       "      <td>910064.03</td>\n",
       "      <td>919903.67</td>\n",
       "      <td>0</td>\n",
       "      <td>No Fraud</td>\n",
       "      <td>Week 1</td>\n",
       "      <td>$0K-30K</td>\n",
       "    </tr>\n",
       "    <tr>\n",
       "      <th>1</th>\n",
       "      <td>1</td>\n",
       "      <td>PAYMENT</td>\n",
       "      <td>1864.28</td>\n",
       "      <td>C1666544295</td>\n",
       "      <td>21249.00</td>\n",
       "      <td>19384.72</td>\n",
       "      <td>M2044282225</td>\n",
       "      <td>910039.71</td>\n",
       "      <td>911903.99</td>\n",
       "      <td>0</td>\n",
       "      <td>No Fraud</td>\n",
       "      <td>Week 1</td>\n",
       "      <td>$0K-30K</td>\n",
       "    </tr>\n",
       "    <tr>\n",
       "      <th>2</th>\n",
       "      <td>1</td>\n",
       "      <td>TRANSFER</td>\n",
       "      <td>181.00</td>\n",
       "      <td>C1305486145</td>\n",
       "      <td>181.00</td>\n",
       "      <td>0.00</td>\n",
       "      <td>C553264065</td>\n",
       "      <td>0.00</td>\n",
       "      <td>0.00</td>\n",
       "      <td>1</td>\n",
       "      <td>Fraud</td>\n",
       "      <td>Week 1</td>\n",
       "      <td>$0K-30K</td>\n",
       "    </tr>\n",
       "    <tr>\n",
       "      <th>3</th>\n",
       "      <td>1</td>\n",
       "      <td>CASH_OUT</td>\n",
       "      <td>181.00</td>\n",
       "      <td>C840083671</td>\n",
       "      <td>181.00</td>\n",
       "      <td>0.00</td>\n",
       "      <td>C38997010</td>\n",
       "      <td>21182.00</td>\n",
       "      <td>0.00</td>\n",
       "      <td>1</td>\n",
       "      <td>Fraud</td>\n",
       "      <td>Week 1</td>\n",
       "      <td>$0K-30K</td>\n",
       "    </tr>\n",
       "    <tr>\n",
       "      <th>4</th>\n",
       "      <td>1</td>\n",
       "      <td>PAYMENT</td>\n",
       "      <td>11668.14</td>\n",
       "      <td>C2048537720</td>\n",
       "      <td>41554.00</td>\n",
       "      <td>29885.86</td>\n",
       "      <td>M1230701703</td>\n",
       "      <td>54245.57</td>\n",
       "      <td>65913.71</td>\n",
       "      <td>0</td>\n",
       "      <td>No Fraud</td>\n",
       "      <td>Week 1</td>\n",
       "      <td>$0K-30K</td>\n",
       "    </tr>\n",
       "  </tbody>\n",
       "</table>\n",
       "</div>"
      ],
      "text/plain": [
       "   step      type   amount     nameOrig  oldbalanceOrg  newbalanceOrig  \\\n",
       "0     1   PAYMENT  9839.64  C1231006815      170136.00       160296.36   \n",
       "1     1   PAYMENT  1864.28  C1666544295       21249.00        19384.72   \n",
       "2     1  TRANSFER   181.00  C1305486145         181.00            0.00   \n",
       "3     1  CASH_OUT   181.00   C840083671         181.00            0.00   \n",
       "4     1   PAYMENT 11668.14  C2048537720       41554.00        29885.86   \n",
       "\n",
       "      nameDest  oldbalanceDest  newbalanceDest  isFraud    Status Step_Bucket  \\\n",
       "0  M1979787155       910064.03       919903.67        0  No Fraud      Week 1   \n",
       "1  M2044282225       910039.71       911903.99        0  No Fraud      Week 1   \n",
       "2   C553264065            0.00            0.00        1     Fraud      Week 1   \n",
       "3    C38997010        21182.00            0.00        1     Fraud      Week 1   \n",
       "4  M1230701703        54245.57        65913.71        0  No Fraud      Week 1   \n",
       "\n",
       "  Amount_Bin_Bucket  \n",
       "0           $0K-30K  \n",
       "1           $0K-30K  \n",
       "2           $0K-30K  \n",
       "3           $0K-30K  \n",
       "4           $0K-30K  "
      ]
     },
     "execution_count": 58,
     "metadata": {},
     "output_type": "execute_result"
    }
   ],
   "source": [
    "df.head()"
   ]
  },
  {
   "cell_type": "code",
   "execution_count": 59,
   "id": "0a0dac01",
   "metadata": {},
   "outputs": [
    {
     "data": {
      "text/plain": [
       "(5726358, 13)"
      ]
     },
     "execution_count": 59,
     "metadata": {},
     "output_type": "execute_result"
    }
   ],
   "source": [
    "df.shape"
   ]
  },
  {
   "cell_type": "markdown",
   "id": "d37440ae",
   "metadata": {},
   "source": [
    "### Feature Extraction"
   ]
  },
  {
   "cell_type": "code",
   "execution_count": null,
   "id": "22da7188",
   "metadata": {},
   "outputs": [],
   "source": []
  },
  {
   "cell_type": "code",
   "execution_count": 60,
   "id": "0d3354b2",
   "metadata": {},
   "outputs": [],
   "source": [
    "# Create features balanceOrig_diff and balanceDest_diff\n",
    "df['balanceOrig_diff'] = df['oldbalanceOrg'] - df['newbalanceOrig']\n",
    "df['balanceDest_diff'] = df['oldbalanceDest'] - df['newbalanceDest']\n",
    "df['trans_rate'] = df['amount'] / (df['oldbalanceOrg'] + 1)  # Avoid division by zero\n"
   ]
  },
  {
   "cell_type": "code",
   "execution_count": 61,
   "id": "5f687d68",
   "metadata": {},
   "outputs": [],
   "source": [
    "\n",
    "# Encoding categorical features\n",
    "df['type_encoded'] = df['type'].map({\n",
    "    'PAYMENT': 0, \n",
    "    'TRANSFER': 1, \n",
    "    'CASH_OUT': 2, \n",
    "    'DEBIT': 3, \n",
    "    'CASH_IN': 4\n",
    "})\n",
    "#creating new features using our dataset columns and encoding the type column"
   ]
  },
  {
   "cell_type": "code",
   "execution_count": null,
   "id": "3f212860",
   "metadata": {},
   "outputs": [],
   "source": []
  },
  {
   "cell_type": "markdown",
   "id": "973f8786",
   "metadata": {},
   "source": [
    "### Feature Selection\n",
    "\n",
    "selecting most relevant features as per our analysis for model building "
   ]
  },
  {
   "cell_type": "code",
   "execution_count": 62,
   "id": "66321e3e",
   "metadata": {},
   "outputs": [
    {
     "data": {
      "image/png": "[encoded data removed]",
      "text/plain": [
       "<Figure size 720x576 with 2 Axes>"
      ]
     },
     "metadata": {
      "needs_background": "light"
     },
     "output_type": "display_data"
    }
   ],
   "source": [
    "import seaborn as sns\n",
    "import matplotlib.pyplot as plt\n",
    "\n",
    "# Compute correlation matrix\n",
    "correlation_matrix = df.corr()\n",
    "\n",
    "# Plot heatmap\n",
    "plt.figure(figsize=(10, 8))\n",
    "#sns.heatmap(correlation_matrix, annot=True, cmap='coolwarm')\n",
    "sns.heatmap(correlation_matrix, \n",
    "            annot=True,          \n",
    "            cmap='YlGnBu',    \n",
    "            fmt='.2f',          \n",
    "            linewidths=0.5,      \n",
    "            linecolor='white',   \n",
    "            cbar_kws={'shrink': 0.8},  \n",
    "            square=True,         \n",
    "            annot_kws={'size': 12}) \n",
    "plt.title('Correlation Matrix Heatmap', fontsize=16)  # Title with a larger font size\n",
    "plt.xticks(rotation=45, ha='right')  # Rotate x-axis labels for better fit\n",
    "plt.yticks(rotation=0)  # Rotate y-axis labels for better fit\n",
    "plt.tight_layout()      # Adjust layout to make room for the axes\n",
    "plt.show()"
   ]
  },
  {
   "cell_type": "markdown",
   "id": "700e7ffe",
   "metadata": {},
   "source": [
    "The heatmap reveals strong correlations between balance-related variables and moderate correlations between fraud and certain transaction characteristics. Notably, the amount shows a weak negative correlation with fraud, suggesting larger transactions aren't necessarily more likely to be fraudulent.\n",
    "\n",
    "oldbalanceOrg and newbalanceOrig are showing 1 corelation and same newbalanceDest and oldbalanceDest too showing 1 correlation we may only need to take one column from both for the model building part "
   ]
  },
  {
   "cell_type": "code",
   "execution_count": 63,
   "id": "8abea93b",
   "metadata": {},
   "outputs": [
    {
     "data": {
      "text/html": [
       "<div>\n",
       "<style scoped>\n",
       "    .dataframe tbody tr th:only-of-type {\n",
       "        vertical-align: middle;\n",
       "    }\n",
       "\n",
       "    .dataframe tbody tr th {\n",
       "        vertical-align: top;\n",
       "    }\n",
       "\n",
       "    .dataframe thead th {\n",
       "        text-align: right;\n",
       "    }\n",
       "</style>\n",
       "<table border=\"1\" class=\"dataframe\">\n",
       "  <thead>\n",
       "    <tr style=\"text-align: right;\">\n",
       "      <th></th>\n",
       "      <th>step</th>\n",
       "      <th>amount</th>\n",
       "      <th>oldbalanceOrg</th>\n",
       "      <th>newbalanceOrig</th>\n",
       "      <th>oldbalanceDest</th>\n",
       "      <th>newbalanceDest</th>\n",
       "      <th>isFraud</th>\n",
       "      <th>balanceOrig_diff</th>\n",
       "      <th>balanceDest_diff</th>\n",
       "      <th>trans_rate</th>\n",
       "      <th>type_encoded</th>\n",
       "    </tr>\n",
       "  </thead>\n",
       "  <tbody>\n",
       "    <tr>\n",
       "      <th>count</th>\n",
       "      <td>5726358.00</td>\n",
       "      <td>5726358.00</td>\n",
       "      <td>5726358.00</td>\n",
       "      <td>5726358.00</td>\n",
       "      <td>5726358.00</td>\n",
       "      <td>5726358.00</td>\n",
       "      <td>5726358.00</td>\n",
       "      <td>5726358.00</td>\n",
       "      <td>5726358.00</td>\n",
       "      <td>5726358.00</td>\n",
       "      <td>5726358.00</td>\n",
       "    </tr>\n",
       "    <tr>\n",
       "      <th>mean</th>\n",
       "      <td>243.69</td>\n",
       "      <td>95366.31</td>\n",
       "      <td>1018538.39</td>\n",
       "      <td>987111.88</td>\n",
       "      <td>1180391.29</td>\n",
       "      <td>1196449.33</td>\n",
       "      <td>0.11</td>\n",
       "      <td>31426.51</td>\n",
       "      <td>-16058.03</td>\n",
       "      <td>42.22</td>\n",
       "      <td>1.67</td>\n",
       "    </tr>\n",
       "    <tr>\n",
       "      <th>std</th>\n",
       "      <td>142.22</td>\n",
       "      <td>99461.66</td>\n",
       "      <td>2894281.81</td>\n",
       "      <td>2940577.75</td>\n",
       "      <td>2895603.12</td>\n",
       "      <td>2921464.63</td>\n",
       "      <td>0.32</td>\n",
       "      <td>134161.94</td>\n",
       "      <td>275297.64</td>\n",
       "      <td>907.11</td>\n",
       "      <td>1.53</td>\n",
       "    </tr>\n",
       "    <tr>\n",
       "      <th>min</th>\n",
       "      <td>1.00</td>\n",
       "      <td>0.00</td>\n",
       "      <td>0.00</td>\n",
       "      <td>-365304.57</td>\n",
       "      <td>-362169.58</td>\n",
       "      <td>0.00</td>\n",
       "      <td>0.00</td>\n",
       "      <td>-365423.16</td>\n",
       "      <td>-57903515.40</td>\n",
       "      <td>0.00</td>\n",
       "      <td>0.00</td>\n",
       "    </tr>\n",
       "    <tr>\n",
       "      <th>25%</th>\n",
       "      <td>156.00</td>\n",
       "      <td>11519.22</td>\n",
       "      <td>24250.03</td>\n",
       "      <td>546.53</td>\n",
       "      <td>265231.19</td>\n",
       "      <td>252583.19</td>\n",
       "      <td>0.00</td>\n",
       "      <td>1139.71</td>\n",
       "      <td>-98267.83</td>\n",
       "      <td>0.04</td>\n",
       "      <td>0.00</td>\n",
       "    </tr>\n",
       "    <tr>\n",
       "      <th>50%</th>\n",
       "      <td>239.00</td>\n",
       "      <td>53495.58</td>\n",
       "      <td>151082.00</td>\n",
       "      <td>148002.10</td>\n",
       "      <td>596807.82</td>\n",
       "      <td>559833.63</td>\n",
       "      <td>0.00</td>\n",
       "      <td>14249.94</td>\n",
       "      <td>-13359.55</td>\n",
       "      <td>0.27</td>\n",
       "      <td>2.00</td>\n",
       "    </tr>\n",
       "    <tr>\n",
       "      <th>75%</th>\n",
       "      <td>334.00</td>\n",
       "      <td>162268.80</td>\n",
       "      <td>633645.14</td>\n",
       "      <td>564657.29</td>\n",
       "      <td>935193.53</td>\n",
       "      <td>965791.00</td>\n",
       "      <td>0.00</td>\n",
       "      <td>98585.63</td>\n",
       "      <td>-593.65</td>\n",
       "      <td>1.97</td>\n",
       "      <td>2.00</td>\n",
       "    </tr>\n",
       "    <tr>\n",
       "      <th>max</th>\n",
       "      <td>743.00</td>\n",
       "      <td>365423.29</td>\n",
       "      <td>43818855.30</td>\n",
       "      <td>43686616.33</td>\n",
       "      <td>356015889.35</td>\n",
       "      <td>356179278.92</td>\n",
       "      <td>1.00</td>\n",
       "      <td>365423.29</td>\n",
       "      <td>5353303.67</td>\n",
       "      <td>332729.54</td>\n",
       "      <td>4.00</td>\n",
       "    </tr>\n",
       "  </tbody>\n",
       "</table>\n",
       "</div>"
      ],
      "text/plain": [
       "            step     amount  oldbalanceOrg  newbalanceOrig  oldbalanceDest  \\\n",
       "count 5726358.00 5726358.00     5726358.00      5726358.00      5726358.00   \n",
       "mean      243.69   95366.31     1018538.39       987111.88      1180391.29   \n",
       "std       142.22   99461.66     2894281.81      2940577.75      2895603.12   \n",
       "min         1.00       0.00           0.00      -365304.57      -362169.58   \n",
       "25%       156.00   11519.22       24250.03          546.53       265231.19   \n",
       "50%       239.00   53495.58      151082.00       148002.10       596807.82   \n",
       "75%       334.00  162268.80      633645.14       564657.29       935193.53   \n",
       "max       743.00  365423.29    43818855.30     43686616.33    356015889.35   \n",
       "\n",
       "       newbalanceDest    isFraud  balanceOrig_diff  balanceDest_diff  \\\n",
       "count      5726358.00 5726358.00        5726358.00        5726358.00   \n",
       "mean       1196449.33       0.11          31426.51         -16058.03   \n",
       "std        2921464.63       0.32         134161.94         275297.64   \n",
       "min              0.00       0.00        -365423.16      -57903515.40   \n",
       "25%         252583.19       0.00           1139.71         -98267.83   \n",
       "50%         559833.63       0.00          14249.94         -13359.55   \n",
       "75%         965791.00       0.00          98585.63           -593.65   \n",
       "max      356179278.92       1.00         365423.29        5353303.67   \n",
       "\n",
       "       trans_rate  type_encoded  \n",
       "count  5726358.00    5726358.00  \n",
       "mean        42.22          1.67  \n",
       "std        907.11          1.53  \n",
       "min          0.00          0.00  \n",
       "25%          0.04          0.00  \n",
       "50%          0.27          2.00  \n",
       "75%          1.97          2.00  \n",
       "max     332729.54          4.00  "
      ]
     },
     "execution_count": 63,
     "metadata": {},
     "output_type": "execute_result"
    }
   ],
   "source": [
    "df.describe()"
   ]
  },
  {
   "cell_type": "code",
   "execution_count": 64,
   "id": "4e02a044",
   "metadata": {},
   "outputs": [
    {
     "data": {
      "text/plain": [
       "Index(['step', 'type', 'amount', 'nameOrig', 'oldbalanceOrg', 'newbalanceOrig',\n",
       "       'nameDest', 'oldbalanceDest', 'newbalanceDest', 'isFraud', 'Status',\n",
       "       'Step_Bucket', 'Amount_Bin_Bucket', 'balanceOrig_diff',\n",
       "       'balanceDest_diff', 'trans_rate', 'type_encoded'],\n",
       "      dtype='object')"
      ]
     },
     "execution_count": 64,
     "metadata": {},
     "output_type": "execute_result"
    }
   ],
   "source": [
    "df.columns"
   ]
  },
  {
   "cell_type": "code",
   "execution_count": 65,
   "id": "762cf8fd",
   "metadata": {},
   "outputs": [],
   "source": [
    "# Select columns to use as features\n",
    "features = [\n",
    "    'amount',\n",
    "    'oldbalanceOrg',\n",
    "    #'newbalanceOrig',\n",
    "    'oldbalanceDest',\n",
    "    #'newbalanceDest',\n",
    "    'balanceOrig_diff',\n",
    "    'balanceDest_diff',\n",
    "    'trans_rate',\n",
    "    'type_encoded'\n",
    "]\n",
    "\n",
    "X = df[features]\n",
    "y = df['isFraud']"
   ]
  },
  {
   "cell_type": "markdown",
   "id": "0eff552f",
   "metadata": {},
   "source": [
    "Since newbalanceOrig and newbalanceDest have a correlation coefficient of 1, it implies that these two columns are perfectly positively correlated. Therefore, we can safely drop one of these columns without losing any significant information, as they essentially represent the same underlying data."
   ]
  },
  {
   "cell_type": "code",
   "execution_count": 66,
   "id": "2a53559f",
   "metadata": {},
   "outputs": [
    {
     "data": {
      "text/plain": [
       "(5726358, 17)"
      ]
     },
     "execution_count": 66,
     "metadata": {},
     "output_type": "execute_result"
    }
   ],
   "source": [
    "df.shape"
   ]
  },
  {
   "cell_type": "markdown",
   "id": "245a4562",
   "metadata": {},
   "source": [
    "### Model training"
   ]
  },
  {
   "cell_type": "code",
   "execution_count": 68,
   "id": "3fc22048",
   "metadata": {},
   "outputs": [],
   "source": [
    "from sklearn.model_selection import train_test_split\n",
    "#spliting training and testing data\n",
    "X_train, X_test, y_train, y_test = train_test_split(X, y, test_size=0.2, random_state=42, stratify=y)\n"
   ]
  },
  {
   "cell_type": "markdown",
   "id": "883f5b98",
   "metadata": {},
   "source": [
    "What is stratify in train_test_split?\n",
    "\n",
    "stratify ensures that the proportion of target classes (labels) is preserved in both the training and test sets.\n",
    "\n",
    "\n",
    "It’s useful when you have a biased dataset (e.g., imbalanced classes) and want to create an unbiased split."
   ]
  },
  {
   "cell_type": "code",
   "execution_count": null,
   "id": "64019788",
   "metadata": {},
   "outputs": [],
   "source": []
  },
  {
   "cell_type": "code",
   "execution_count": 69,
   "id": "f272f42f",
   "metadata": {},
   "outputs": [
    {
     "name": "stdout",
     "output_type": "stream",
     "text": [
      "DecisionTreeClassifier Training Time: 74.08 seconds\n"
     ]
    }
   ],
   "source": [
    "from sklearn.tree import DecisionTreeClassifier\n",
    "start_time = time.time()\n",
    "model = DecisionTreeClassifier()\n",
    "model.fit(X_train, y_train)\n",
    "print(f\"DecisionTreeClassifier Training Time: {time.time() - start_time:.2f} seconds\")"
   ]
  },
  {
   "cell_type": "markdown",
   "id": "e77b7860",
   "metadata": {},
   "source": [
    "### Result Evaluation and Result Validation "
   ]
  },
  {
   "cell_type": "code",
   "execution_count": 70,
   "id": "94118b51",
   "metadata": {},
   "outputs": [
    {
     "name": "stdout",
     "output_type": "stream",
     "text": [
      "Classification Report:\n",
      "               precision    recall  f1-score   support\n",
      "\n",
      "           0       0.96      0.96      0.96   1016879\n",
      "           1       0.71      0.72      0.72    128393\n",
      "\n",
      "    accuracy                           0.94   1145272\n",
      "   macro avg       0.84      0.84      0.84   1145272\n",
      "weighted avg       0.94      0.94      0.94   1145272\n",
      "\n",
      "Confusion Matrix:\n",
      " [[979522  37357]\n",
      " [ 36052  92341]]\n",
      "ROC AUC Score: 0.8412344790706857\n"
     ]
    }
   ],
   "source": [
    "# Predictions\n",
    "y_pred = model.predict(X_test)\n",
    "y_pred_proba = model.predict_proba(X_test)[:, 1]\n",
    "\n",
    "# Evaluation Metrics\n",
    "print(\"Classification Report:\\n\", classification_report(y_test, y_pred))\n",
    "print(\"Confusion Matrix:\\n\", confusion_matrix(y_test, y_pred))\n",
    "print(\"ROC AUC Score:\", roc_auc_score(y_test, y_pred_proba))\n"
   ]
  },
  {
   "cell_type": "code",
   "execution_count": 71,
   "id": "95bd6a24",
   "metadata": {},
   "outputs": [
    {
     "data": {
      "image/png": "[encoded data removed]",
      "text/plain": [
       "<Figure size 432x288 with 2 Axes>"
      ]
     },
     "metadata": {
      "needs_background": "light"
     },
     "output_type": "display_data"
    },
    {
     "data": {
      "image/png": "[encoded data removed]",
      "text/plain": [
       "<Figure size 432x288 with 1 Axes>"
      ]
     },
     "metadata": {
      "needs_background": "light"
     },
     "output_type": "display_data"
    }
   ],
   "source": [
    "# Confusion Matrix Visualization\n",
    "conf_matrix = confusion_matrix(y_test, y_pred)\n",
    "sns.heatmap(conf_matrix, annot=True, fmt='d', cmap='Blues')\n",
    "plt.title('Confusion Matrix')\n",
    "plt.xlabel('Predicted')\n",
    "plt.ylabel('Actual')\n",
    "plt.show()\n",
    "\n",
    "# ROC Curve\n",
    "fpr, tpr, _ = roc_curve(y_test, y_pred_proba)\n",
    "roc_auc = auc(fpr, tpr)\n",
    "plt.figure()\n",
    "plt.plot(fpr, tpr, color='darkorange', lw=2, label='ROC curve (area = %0.2f)' % roc_auc)\n",
    "plt.plot([0, 1], [0, 1], color='navy', lw=2, linestyle='--')\n",
    "plt.xlim([0.0, 1.0])\n",
    "plt.ylim([0.0, 1.05])\n",
    "plt.xlabel('False Positive Rate')\n",
    "plt.ylabel('True Positive Rate')\n",
    "plt.title('Receiver Operating Characteristic')\n",
    "plt.legend(loc=\"lower right\")\n",
    "plt.show()\n"
   ]
  },
  {
   "cell_type": "markdown",
   "id": "c8091f1c",
   "metadata": {},
   "source": [
    "LightGBM Model"
   ]
  },
  {
   "cell_type": "code",
   "execution_count": 72,
   "id": "5b2aa3d2",
   "metadata": {},
   "outputs": [
    {
     "name": "stdout",
     "output_type": "stream",
     "text": [
      "[LightGBM] [Info] Number of positive: 513571, number of negative: 4067515\n",
      "[LightGBM] [Warning] Auto-choosing row-wise multi-threading, the overhead of testing was 0.032082 seconds.\n",
      "You can set `force_row_wise=true` to remove the overhead.\n",
      "And if memory is not enough, you can set `force_col_wise=true`.\n",
      "[LightGBM] [Info] Total Bins 1535\n",
      "[LightGBM] [Info] Number of data points in the train set: 4581086, number of used features: 7\n",
      "[LightGBM] [Info] [binary:BoostFromScore]: pavg=0.112107 -> initscore=-2.069399\n",
      "[LightGBM] [Info] Start training from score -2.069399\n",
      "LightGBM Training Time: 9.09 seconds\n"
     ]
    }
   ],
   "source": [
    "import lightgbm as lgb\n",
    "start_time = time.time()\n",
    "lgb_train = lgb.Dataset(X_train, y_train)\n",
    "lgb_params = {\n",
    "    'objective': 'binary',\n",
    "    'metric': 'auc',\n",
    "    'num_leaves': 31,\n",
    "    'learning_rate': 0.05,\n",
    "    'feature_fraction': 0.9\n",
    "}\n",
    "lgb_model = lgb.train(lgb_params, lgb_train, num_boost_round=100)\n",
    "print(f\"LightGBM Training Time: {time.time() - start_time:.2f} seconds\")"
   ]
  },
  {
   "cell_type": "code",
   "execution_count": 73,
   "id": "005f829c",
   "metadata": {},
   "outputs": [],
   "source": [
    "#Predictions\n",
    "\n",
    "lgb_pred = (lgb_model.predict(X_test) > 0.5).astype(int)\n",
    "lgb_pred_proba = lgb_model.predict(X_test)"
   ]
  },
  {
   "cell_type": "code",
   "execution_count": 74,
   "id": "4c1fec2a",
   "metadata": {},
   "outputs": [
    {
     "name": "stdout",
     "output_type": "stream",
     "text": [
      "Classification Report:\n",
      "               precision    recall  f1-score   support\n",
      "\n",
      "           0       0.94      1.00      0.97   1016879\n",
      "           1       1.00      0.51      0.67    128393\n",
      "\n",
      "    accuracy                           0.94   1145272\n",
      "   macro avg       0.97      0.75      0.82   1145272\n",
      "weighted avg       0.95      0.94      0.94   1145272\n",
      "\n",
      "Confusion Matrix:\n",
      " [[1016690     189]\n",
      " [  63048   65345]]\n",
      "ROC AUC Score: 0.9799902912212937\n"
     ]
    }
   ],
   "source": [
    "# Evaluation Metrics\n",
    "\n",
    "print(\"Classification Report:\\n\", classification_report(y_test, lgb_pred))\n",
    "print(\"Confusion Matrix:\\n\", confusion_matrix(y_test, lgb_pred))\n",
    "print(\"ROC AUC Score:\", roc_auc_score(y_test, lgb_pred_proba))"
   ]
  },
  {
   "cell_type": "code",
   "execution_count": 75,
   "id": "8c0f5ba6",
   "metadata": {},
   "outputs": [
    {
     "data": {
      "image/png": "[encoded data removed]",
      "text/plain": [
       "<Figure size 432x288 with 2 Axes>"
      ]
     },
     "metadata": {
      "needs_background": "light"
     },
     "output_type": "display_data"
    },
    {
     "data": {
      "image/png": "[encoded data removed]",
      "text/plain": [
       "<Figure size 432x288 with 1 Axes>"
      ]
     },
     "metadata": {
      "needs_background": "light"
     },
     "output_type": "display_data"
    }
   ],
   "source": [
    "# Confusion Matrix Visualization\n",
    "conf_matrix = confusion_matrix(y_test, lgb_pred)\n",
    "sns.heatmap(conf_matrix, annot=True, fmt='d', cmap='Blues')\n",
    "plt.title('Confusion Matrix')\n",
    "plt.xlabel('Predicted')\n",
    "plt.ylabel('Actual')\n",
    "plt.show()\n",
    "\n",
    "# ROC Curve\n",
    "fpr, tpr, _ = roc_curve(y_test, lgb_pred_proba)\n",
    "roc_auc = auc(fpr, tpr)\n",
    "plt.figure()\n",
    "plt.plot(fpr, tpr, color='darkorange', lw=2, label='ROC curve (area = %0.2f)' % roc_auc)\n",
    "plt.plot([0, 1], [0, 1], color='navy', lw=2, linestyle='--')\n",
    "plt.xlim([0.0, 1.0])\n",
    "plt.ylim([0.0, 1.05])\n",
    "plt.xlabel('False Positive Rate')\n",
    "plt.ylabel('True Positive Rate')\n",
    "plt.title('Receiver Operating Characteristic')\n",
    "plt.legend(loc=\"lower right\")\n",
    "plt.show()\n"
   ]
  },
  {
   "cell_type": "markdown",
   "id": "70573541",
   "metadata": {},
   "source": [
    "So in final we choose LightGBM as our best model with highest accuracy of 94% and lowest time to train the model apart from that the model is able to predict with higher accuracy for both the classes "
   ]
  },
  {
   "cell_type": "code",
   "execution_count": null,
   "id": "73c3cf22",
   "metadata": {},
   "outputs": [],
   "source": []
  }
 ],
 "metadata": {
  "kernelspec": {
   "display_name": "Python 3 (ipykernel)",
   "language": "python",
   "name": "python3"
  },
  "language_info": {
   "codemirror_mode": {
    "name": "ipython",
    "version": 3
   },
   "file_extension": ".py",
   "mimetype": "text/x-python",
   "name": "python",
   "nbconvert_exporter": "python",
   "pygments_lexer": "ipython3",
   "version": "3.9.12"
  }
 },
 "nbformat": 4,
 "nbformat_minor": 5
}
